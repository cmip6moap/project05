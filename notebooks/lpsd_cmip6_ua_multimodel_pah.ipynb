{
 "cells": [
  {
   "cell_type": "code",
   "execution_count": 2,
   "metadata": {},
   "outputs": [],
   "source": [
    "from itertools import chain\n",
    "from glob import glob\n",
    "\n",
    "import matplotlib\n",
    "import matplotlib.pyplot as plt\n",
    "import xarray as xr\n",
    "import numpy as np\n",
    "\n",
    "# Set some plotting defaults\n",
    "plt.rcParams['figure.figsize'] = (10, 6)\n",
    "plt.rcParams['figure.dpi'] = 100"
   ]
  },
  {
   "cell_type": "code",
   "execution_count": 23,
   "metadata": {},
   "outputs": [
    {
     "name": "stdout",
     "output_type": "stream",
     "text": [
      "general_examples\t\t     lpsd_scenariomip_ua_multimodel.ipynb\n",
      "lpsd_cmip6_ua_HadGEM3-GC31-MM.ipynb  single_model_zonal_mean_plots.ipynb\n",
      "lpsd_cmip6_ua_multimodel.ipynb\n"
     ]
    }
   ],
   "source": [
    "data_dir = \"/badc/cmip6/data/CMIP6/CMIP/*/*/1pctCO2/*/Amon/ua/gn/latest\"\n",
    "#r = realization, i = initialization, p = physics, f = forcing\n",
    "\n",
    "!ls \n",
    "#data_in_dir_paths = glob(data_dir)\n",
    "#data_in_dir_paths"
   ]
  },
  {
   "cell_type": "code",
   "execution_count": 3,
   "metadata": {},
   "outputs": [
    {
     "data": {
      "text/plain": [
       "['/badc/cmip6/data/CMIP6/CMIP/AWI/AWI-CM-1-1-MR/1pctCO2/r1i1p1f1/Amon/ua/gn/latest',\n",
       " '/badc/cmip6/data/CMIP6/CMIP/BCC/BCC-CSM2-MR/1pctCO2/r1i1p1f1/Amon/ua/gn/latest',\n",
       " '/badc/cmip6/data/CMIP6/CMIP/BCC/BCC-ESM1/1pctCO2/r1i1p1f1/Amon/ua/gn/latest',\n",
       " '/badc/cmip6/data/CMIP6/CMIP/CAMS/CAMS-CSM1-0/1pctCO2/r1i1p1f1/Amon/ua/gn/latest',\n",
       " '/badc/cmip6/data/CMIP6/CMIP/CCCma/CanESM5/1pctCO2/r1i1p1f1/Amon/ua/gn/latest',\n",
       " '/badc/cmip6/data/CMIP6/CMIP/CCCma/CanESM5/1pctCO2/r2i1p1f1/Amon/ua/gn/latest',\n",
       " '/badc/cmip6/data/CMIP6/CMIP/CCCma/CanESM5/1pctCO2/r3i1p1f1/Amon/ua/gn/latest',\n",
       " '/badc/cmip6/data/CMIP6/CMIP/CSIRO/ACCESS-ESM1-5/1pctCO2/r1i1p1f1/Amon/ua/gn/latest',\n",
       " '/badc/cmip6/data/CMIP6/CMIP/CSIRO-ARCCSS/ACCESS-CM2/1pctCO2/r1i1p1f1/Amon/ua/gn/latest',\n",
       " '/badc/cmip6/data/CMIP6/CMIP/MIROC/MIROC6/1pctCO2/r1i1p1f1/Amon/ua/gn/latest',\n",
       " '/badc/cmip6/data/CMIP6/CMIP/MRI/MRI-ESM2-0/1pctCO2/r1i1p1f1/Amon/ua/gn/latest',\n",
       " '/badc/cmip6/data/CMIP6/CMIP/NASA-GISS/GISS-E2-1-G/1pctCO2/r1i1p1f1/Amon/ua/gn/latest',\n",
       " '/badc/cmip6/data/CMIP6/CMIP/NASA-GISS/GISS-E2-1-H/1pctCO2/r1i1p1f1/Amon/ua/gn/latest',\n",
       " '/badc/cmip6/data/CMIP6/CMIP/NCAR/CESM2/1pctCO2/r1i1p1f1/Amon/ua/gn/latest',\n",
       " '/badc/cmip6/data/CMIP6/CMIP/NCAR/CESM2-WACCM/1pctCO2/r1i1p1f1/Amon/ua/gn/latest',\n",
       " '/badc/cmip6/data/CMIP6/CMIP/SNU/SAM0-UNICON/1pctCO2/r1i1p1f1/Amon/ua/gn/latest']"
      ]
     },
     "execution_count": 3,
     "metadata": {},
     "output_type": "execute_result"
    }
   ],
   "source": [
    "data_dir = \"/badc/cmip6/data/CMIP6/CMIP/*/*/1pctCO2/r*i1p1f1/Amon/ua/gn/latest\"\n",
    "#r = realization, i = initialization, p = physics, f = forcing\n",
    "\n",
    "data_in_dir_paths = glob(data_dir)\n",
    "data_in_dir_paths"
   ]
  },
  {
   "cell_type": "code",
   "execution_count": 12,
   "metadata": {},
   "outputs": [
    {
     "data": {
      "text/plain": [
       "'r1i1p1f1'"
      ]
     },
     "execution_count": 12,
     "metadata": {},
     "output_type": "execute_result"
    }
   ],
   "source": [
    "data_in_dir_paths[0].split(sep='/')[9]"
   ]
  },
  {
   "cell_type": "code",
   "execution_count": 21,
   "metadata": {},
   "outputs": [
    {
     "data": {
      "text/plain": [
       "{'AWI-CM-1-1-MR': ['r1i1p1f1'],\n",
       " 'BCC-CSM2-MR': ['r1i1p1f1'],\n",
       " 'BCC-ESM1': ['r1i1p1f1'],\n",
       " 'CAMS-CSM1-0': ['r1i1p1f1'],\n",
       " 'CanESM5': ['r1i1p1f1', 'r2i1p1f1', 'r3i1p1f1'],\n",
       " 'ACCESS-ESM1-5': ['r1i1p1f1'],\n",
       " 'ACCESS-CM2': ['r1i1p1f1'],\n",
       " 'MIROC6': ['r1i1p1f1'],\n",
       " 'MRI-ESM2-0': ['r1i1p1f1'],\n",
       " 'GISS-E2-1-G': ['r1i1p1f1'],\n",
       " 'GISS-E2-1-H': ['r1i1p1f1'],\n",
       " 'CESM2': ['r1i1p1f1'],\n",
       " 'CESM2-WACCM': ['r1i1p1f1'],\n",
       " 'SAM0-UNICON': ['r1i1p1f1']}"
      ]
     },
     "execution_count": 21,
     "metadata": {},
     "output_type": "execute_result"
    }
   ],
   "source": [
    "models = {}\n",
    "for i in range(0,len(data_in_dir_paths)):\n",
    "    model_name = data_in_dir_paths[i].split(sep='/')[7]\n",
    "    if model_name not in models:\n",
    "        models[model_name] = [data_in_dir_paths[i].split(sep='/')[9]] # assign member to list\n",
    "    else:\n",
    "        models[model_name].append(data_in_dir_paths[i].split(sep='/')[9])\n",
    "        \n",
    "models"
   ]
  },
  {
   "cell_type": "code",
   "execution_count": null,
   "metadata": {},
   "outputs": [],
   "source": []
  }
 ],
 "metadata": {
  "kernelspec": {
   "display_name": "cmip6",
   "language": "python",
   "name": "cmip6"
  },
  "language_info": {
   "codemirror_mode": {
    "name": "ipython",
    "version": 3
   },
   "file_extension": ".py",
   "mimetype": "text/x-python",
   "name": "python",
   "nbconvert_exporter": "python",
   "pygments_lexer": "ipython3",
   "version": "3.8.10"
  }
 },
 "nbformat": 4,
 "nbformat_minor": 4
}
