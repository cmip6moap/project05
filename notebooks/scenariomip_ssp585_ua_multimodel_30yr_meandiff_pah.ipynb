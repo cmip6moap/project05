{
 "cells": [
  {
   "cell_type": "markdown",
   "metadata": {},
   "source": [
    "## Plot difference between 2 30yr means of zonal mean zonal wind in :\n",
    "####   the \"ssp585\" experiment and the \"historical\" simulation\n",
    "####   in all CMIP6 models containing both above simulations\n",
    "####   for selected season (DJF) and over selected latitude range (0-90)\n",
    "\n",
    "##### Created as part of PAMIP group during CMIP6 hackathon 2021\n",
    "##### Created by : Phoebe Hudson / Colin Manning\n",
    "\n"
   ]
  },
  {
   "cell_type": "code",
   "execution_count": 2,
   "metadata": {},
   "outputs": [],
   "source": [
    "from itertools import chain\n",
    "from itertools import islice\n",
    "from glob import glob\n",
    "\n",
    "import matplotlib\n",
    "import matplotlib.pyplot as plt\n",
    "import xarray as xr\n",
    "import numpy as np\n",
    "import re\n",
    "\n",
    "# Set some plotting defaults\n",
    "plt.rcParams['figure.figsize'] = (10, 6)\n",
    "plt.rcParams['figure.dpi'] = 100\n",
    "\n",
    "#!jupyter nbconvert --to script lpsd_scenariomip_ua_multimodel_pah.ipynb"
   ]
  },
  {
   "cell_type": "code",
   "execution_count": 5,
   "metadata": {},
   "outputs": [],
   "source": [
    "### Set data directory where data structure follows \n",
    "#     /badc/cmip6/data/<mip_era>/<activity_id>/<institution_id>/<source_id>/<experiment_id>/<variant_label>/<table_id>/<variable_id>/<grid_label>/<version>\n",
    "#   and experiment id follows\n",
    "#     r = realization, i = initialization, p = physics, f = forcing\n",
    "\n",
    "data_dir = \"/badc/cmip6/data/CMIP6/ScenarioMIP/*/*/ssp585/*/Amon/ua/gn/latest\"\n",
    "\n",
    "#!ls {data_dir}\n",
    "data_in_dir_paths = glob(data_dir)\n",
    "#data_in_dir_paths"
   ]
  },
  {
   "cell_type": "code",
   "execution_count": 3,
   "metadata": {},
   "outputs": [],
   "source": [
    "# View 2m temperature files (tas)\n",
    "\n",
    "#data_dir = \"/badc/cmip6/data/CMIP6/ScenarioMIP/*/*/ssp585/*/Amon/tas/gn/latest\"\n",
    "#!ls {data_dir}"
   ]
  },
  {
   "cell_type": "code",
   "execution_count": 6,
   "metadata": {},
   "outputs": [
    {
     "data": {
      "text/plain": [
       "'r1i1p1f1'"
      ]
     },
     "execution_count": 6,
     "metadata": {},
     "output_type": "execute_result"
    }
   ],
   "source": [
    "### Extract ensemble member name from pathname in an element (the 0th) of the data_in_dir_paths list \n",
    "\n",
    "#data_in_dir_paths[0].split(sep='/')[9]"
   ]
  },
  {
   "cell_type": "code",
   "execution_count": 7,
   "metadata": {},
   "outputs": [],
   "source": [
    "### Create dictionary of historical model names (element 7) and associated ensemble members (element 9)\n",
    "\n",
    "hist_model_data_dir = \"/badc/cmip6/data/CMIP6/CMIP/*/*/historical/*/Amon/ua/gn/latest/\"\n",
    "hist_data_in_dir_paths = glob(hist_model_data_dir)\n",
    "hist_models = {}\n",
    "for i in range(0,len(hist_data_in_dir_paths)):\n",
    "    model_name = hist_data_in_dir_paths[i].split(sep='/')[7]\n",
    "    if model_name not in hist_models:\n",
    "        hist_models[model_name] = [hist_data_in_dir_paths[i].split(sep='/')[9]] # assign member to list\n",
    "    else:\n",
    "        hist_models[model_name].append(hist_data_in_dir_paths[i].split(sep='/')[9])\n",
    "        \n",
    "#hist_models"
   ]
  },
  {
   "cell_type": "code",
   "execution_count": 8,
   "metadata": {},
   "outputs": [],
   "source": [
    "### Create dictionary of ssp585 model names (element 7) and associated ensemble members (element 9)\n",
    "\n",
    "models = {}\n",
    "for i in range(0,len(data_in_dir_paths)):\n",
    "    model_name = data_in_dir_paths[i].split(sep='/')[7]\n",
    "    if model_name not in models:\n",
    "        models[model_name] = [data_in_dir_paths[i].split(sep='/')[9]] # assign member to list\n",
    "    else:\n",
    "        models[model_name].append(data_in_dir_paths[i].split(sep='/')[9])\n",
    "        \n",
    "#islice(models, 16)"
   ]
  },
  {
   "cell_type": "code",
   "execution_count": 33,
   "metadata": {},
   "outputs": [
    {
     "name": "stdout",
     "output_type": "stream",
     "text": [
      "TaiESM1\n",
      "AWI-CM-1-1-MR\n",
      "BCC-CSM2-MR\n",
      "CAMS-CSM1-0\n",
      "CAS-ESM2-0\n",
      "FGOALS-g3\n",
      "IITM-ESM\n",
      "CanESM5\n",
      "CanESM5-CanOE\n",
      "CMCC-CM2-SR5\n",
      "CMCC-ESM2\n",
      "ACCESS-ESM1-5\n",
      "ACCESS-CM2\n",
      "MPI-ESM1-2-HR\n",
      "FIO-ESM-2-0\n",
      "MIROC-ES2L\n",
      "MIROC6\n",
      "HadGEM3-GC31-LL\n",
      "HadGEM3-GC31-MM\n",
      "UKESM1-0-LL\n",
      "MPI-ESM1-2-LR\n",
      "MRI-ESM2-0\n",
      "GISS-E2-1-G\n",
      "CESM2\n"
     ]
    },
    {
     "name": "stderr",
     "output_type": "stream",
     "text": [
      "/gws/pw/j05/cop26_hackathons/bristol/env/lib/python3.8/site-packages/xarray/conventions.py:512: SerializationWarning: variable 'ua' has multiple fill values {1e+20, 1e+20}, decoding all values to NaN.\n",
      "  new_vars[k] = decode_cf_variable(\n"
     ]
    },
    {
     "name": "stdout",
     "output_type": "stream",
     "text": [
      "CESM2-WACCM\n"
     ]
    },
    {
     "name": "stderr",
     "output_type": "stream",
     "text": [
      "/gws/pw/j05/cop26_hackathons/bristol/env/lib/python3.8/site-packages/xarray/conventions.py:512: SerializationWarning: variable 'ua' has multiple fill values {1e+20, 1e+20}, decoding all values to NaN.\n",
      "  new_vars[k] = decode_cf_variable(\n",
      "/gws/pw/j05/cop26_hackathons/bristol/env/lib/python3.8/site-packages/xarray/conventions.py:512: SerializationWarning: variable 'ua' has multiple fill values {1e+20, 1e+20}, decoding all values to NaN.\n",
      "  new_vars[k] = decode_cf_variable(\n",
      "/gws/pw/j05/cop26_hackathons/bristol/env/lib/python3.8/site-packages/xarray/conventions.py:512: SerializationWarning: variable 'ua' has multiple fill values {1e+20, 1e+20}, decoding all values to NaN.\n",
      "  new_vars[k] = decode_cf_variable(\n"
     ]
    },
    {
     "name": "stdout",
     "output_type": "stream",
     "text": [
      "NorESM2-LM\n",
      "NorESM2-MM\n",
      "NESM3\n",
      "MCM-UA-1-0\n"
     ]
    }
   ],
   "source": [
    "### Create list of 30 yr differences in zonal mean zonal wind for each model in dictionary \"models\"\n",
    "\n",
    "# Calculate zonal mean of zonal wind (mean over all longitudes) and sub-select by latitude (N hem = 0,90)\n",
    "# Select winter months (DJF=Dec-Feb) from zonal mean zonal wind\n",
    "# Calculate difference between two 30-yr means of zonal mean zonal winds for\n",
    "#     the \"historical\" simulation : over 1850-01-16 - 1880-12-16 and \n",
    "#     the \"ssp585\" experiment : over 1969-01-16 - 1999-12-16\n",
    "\n",
    "ds_all_models_list = []\n",
    "for model in islice(models,29):\n",
    "    i=0\n",
    "    print(model)\n",
    "    for member in (models[model]):\n",
    "        #print(model)\n",
    "        forc_model_data_dir = \"/badc/cmip6/data/CMIP6/ScenarioMIP/*/\"+ str(model)+'/ssp585/'+str(member)+'/Amon/ua/gn/latest/*'\n",
    "        hist_model_data_dir = \"/badc/cmip6/data/CMIP6/CMIP/*/\"+ str(model)+'/historical/'+str(member)+'/Amon/ua/gn/latest/*'\n",
    "        forc_model_data_in_dir_paths = glob(forc_model_data_dir)\n",
    "        hist_model_data_in_dir_paths = glob(hist_model_data_dir)\n",
    "        #Check files exist for this model in both historical and ssp585 experiment\n",
    "        if (len(forc_model_data_in_dir_paths)>0) & (len(hist_model_data_in_dir_paths))>0 :\n",
    "            hist_endtime = str(hist_model_data_in_dir_paths[-1])[-9:-3]\n",
    "            forc_starttime = str(forc_model_data_in_dir_paths[0])[-16:-10]\n",
    "            #Check start time of ssp585 experiment is after end time of historical experiment\n",
    "            if hist_endtime>forc_starttime :\n",
    "                model_data_in_dir_paths_all = forc_model_data_in_dir_paths + hist_model_data_in_dir_paths[:-1]\n",
    "            else :\n",
    "                model_data_in_dir_paths_all = forc_model_data_in_dir_paths + hist_model_data_in_dir_paths\n",
    "            #print(len(model_data_in_dir_paths_all))\n",
    "            ds_n = xr.open_mfdataset(model_data_in_dir_paths_all)\n",
    "            #print(ds_n)\n",
    "            #Check end time of spp585 experiment is later than final year in time slice (2099)\n",
    "            if int(str(ds_n.time[-1].values)[0:4]) >= 2099 :\n",
    "                #Change name of variable latitude to lat in the 1 model that calls it latitude/longitude\n",
    "                try : \n",
    "                    ds_n = ds_n.rename({'latitude':'lat', 'longitude':'lon'})\n",
    "                except ValueError : \n",
    "                    pass\n",
    "                ds_n = ds_n.mean(dim='lon').sel(lat=slice(0, 90))\n",
    "                is_winter = ds_n['time'].dt.season == 'DJF'\n",
    "                ds_n_winter = ds_n.isel(time=is_winter)\n",
    "                ds_n_endyrs = ds_n_winter.sel(time=slice('2069-01-16', '2099-12-16')).mean(dim='time')\n",
    "                ds_n_startyrs = ds_n_winter.sel(time=slice('1850-01-16', '1880-12-16')).mean(dim='time')\n",
    "                ds_n_yrsdiff = ds_n_endyrs - ds_n_startyrs\n",
    "                if i==0 : \n",
    "                    ds_t = ds_n_yrsdiff\n",
    "                if i>0 : \n",
    "                    ds_t = ds_t + ds_n_yrsdiff\n",
    "                i+=1\n",
    "    ds_t = ds_t/i\n",
    "    ds_t['plev'] = ds_t.plev.values/100\n",
    "    ds_all_models_list.append(ds_t)\n",
    "\n",
    "    ### Alternative to a list is to write out datasets (ds_t) to netcdf \n",
    "    #      datasets as a list makes the above script quicker BUT takes longer to plot (below)\n",
    "    #      datasets saved as netcdf files is quicker to plot BUT it takes longer to create the files\n",
    "    #   If you want to create netcdf files - look at Colin's script + submit a LOTUS batch job\n",
    "    \n",
    "    #ds_t.to_netcdf('/gws/pw/j05/cop26_hackathons/bristol/project05/cmip6_zonal_ensemble_mean/'+str(model)+'_ensmean_DJF_zonal_mean_ua_Amon_diff_2069-2099_1850-1880.nc')\n",
    "    #ds_t.to_netcdf('/home/users/phohud/pah_phd_scripts/cmip6_hack/cmip6_zonal_ensmean/'+str(model)+'_ensmean_DJF_zonal_mean_ua_Amon_diff_2069-2099_1850-1880.nc')\n",
    "    \n",
    "    "
   ]
  },
  {
   "cell_type": "code",
   "execution_count": 14,
   "metadata": {},
   "outputs": [
    {
     "data": {
      "text/plain": [
       "29"
      ]
     },
     "execution_count": 14,
     "metadata": {},
     "output_type": "execute_result"
    }
   ],
   "source": [
    "### Turn the dictionary (models) into a list of model names\n",
    "\n",
    "models_list = list(models.keys())\n",
    "#ds_all_models_list[i]\n",
    "len(models_list)"
   ]
  },
  {
   "cell_type": "code",
   "execution_count": null,
   "metadata": {},
   "outputs": [],
   "source": [
    "### Plot the difference in 30 yr mean zonal mean zonal wind for the first nplot**2 models (16) and save fig\n",
    "#     NOTE : This failed every time I tried to run it in the jasmin jupyter notebook environment (kernel died)\n",
    "#     I suggest you convert this notebook to a python file and run that from the command line\n",
    "\n",
    "cmap = plt.get_cmap('RdBu_r')\n",
    "\n",
    "nplots = 4\n",
    "\n",
    "fig, axes = plt.subplots(nrows=nplots, ncols=nplots) #, figsize=(15,15))\n",
    "for i in range(0,nplots**2): #len(ds_all_models_list))\n",
    "    print(models_list[i])\n",
    "    ds_i = ds_all_models_list[i]\n",
    "    ax = plt.subplot(nplots,nplots,i+1)\n",
    "    plt.contourf(ds_i.lat, ds_i.plev, ds_i.ua.values, cmap='RdBu_r', levels=np.arange(-1,1,0.1), extend='both')\n",
    "    #plt.pcolormesh(ds_lonmean.lat, ds_lonmean.plev, ds_lonmean_yrsdiff.ua.values, cmap='RdBu_r')\n",
    "    plt.xlabel('Lat')\n",
    "    plt.ylabel('Pressure Level (hPa)')\n",
    "    plt.ylim([1000, 100]) #[100000, 10000])\n",
    "    plt.title(str(models_list[i]))\n",
    "    #axs=np.append(axs,ax)\n",
    "\n",
    "    normalize=matplotlib.colors.Normalize(vmin=-1, vmax=1)\n",
    "    cax, _ = matplotlib.colorbar.make_axes(ax, location = \"bottom\", pad=0.05)\n",
    "    cbar = matplotlib.colorbar.ColorbarBase(cax, cmap=cmap, norm=normalize,orientation=\"horizontal\")\n",
    "    #cbar.set_label('Zonal windspeed ',size=16)\n",
    "    cbar.ax.tick_params(labelsize=16)\n",
    "plt.show()\n",
    "figdir = '/home/users/phohud/pah_phd_scripts/cmip6_hack/project05/results/'\n",
    "fig.savefig((figdir+'cmip6_'+str(int(nplots**2))+'model_zonal_mean_diff_scen585_2069-2099_hist_1850-1880.png'), dpi=100, transparent=False, bbox_inches='tight', pad_inches=0.1)\n"
   ]
  },
  {
   "cell_type": "code",
   "execution_count": 12,
   "metadata": {},
   "outputs": [
    {
     "name": "stderr",
     "output_type": "stream",
     "text": [
      "/gws/pw/j05/cop26_hackathons/bristol/env/lib/python3.8/site-packages/dask/array/numpy_compat.py:39: RuntimeWarning: invalid value encountered in true_divide\n",
      "  x = np.divide(x1, x2, out)\n"
     ]
    },
    {
     "data": {
      "text/plain": [
       "<matplotlib.collections.QuadMesh at 0x7f3ef6c4de50>"
      ]
     },
     "execution_count": 12,
     "metadata": {},
     "output_type": "execute_result"
    },
    {
     "data": {
      "image/png": "[encoded data removed]",
      "text/plain": [
       "<Figure size 1000x600 with 2 Axes>"
      ]
     },
     "metadata": {
      "needs_background": "light"
     },
     "output_type": "display_data"
    }
   ],
   "source": [
    "### Plot the zonal mean zonal wind 30 yr diff in the last dataset loaded in above\n",
    "\n",
    "ds_t.ua.plot()"
   ]
  }
 ],
 "metadata": {
  "kernelspec": {
   "display_name": "cmip6",
   "language": "python",
   "name": "cmip6"
  },
  "language_info": {
   "codemirror_mode": {
    "name": "ipython",
    "version": 3
   },
   "file_extension": ".py",
   "mimetype": "text/x-python",
   "name": "python",
   "nbconvert_exporter": "python",
   "pygments_lexer": "ipython3",
   "version": "3.8.10"
  }
 },
 "nbformat": 4,
 "nbformat_minor": 4
}
