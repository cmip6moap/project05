{
 "cells": [
  {
   "cell_type": "markdown",
   "metadata": {},
   "source": [
    "## Calculate and scatterplot several indices using the differnce betw 2 30yr means of zonal mean zonal wind (calc in <insert Colin's script name here> )\n",
    "\n",
    "## Indices calculated here include \n",
    "####   ZWRI (Zonal Wind Response Index), \n",
    "####   SPV (Strength of the Stratospheric Polar Vortex) and \n",
    "####   AA (Arctic Amplification) indices\n",
    "\n",
    "##### Created as part of PAMIP group during CMIP6 hackathon 2021\n",
    "##### Created by : Phoebe Hudson / Colin Manning\n"
   ]
  },
  {
   "cell_type": "code",
   "execution_count": 161,
   "metadata": {},
   "outputs": [],
   "source": [
    "from itertools import chain\n",
    "from itertools import islice\n",
    "from glob import glob\n",
    "\n",
    "import matplotlib\n",
    "import matplotlib.pyplot as plt\n",
    "import xarray as xr\n",
    "import numpy as np\n",
    "import re\n",
    "import os\n",
    "import subprocess\n",
    "import pickle\n",
    "from scipy.stats import pearsonr\n",
    "from scipy.stats import spearmanr\n",
    "\n",
    "# Set some plotting defaults\n",
    "plt.rcParams['figure.figsize'] = (10, 6)\n",
    "plt.rcParams['figure.dpi'] = 100\n",
    "\n",
    "#!jupyter nbconvert --to script lpsd_scenariomip_ua_multimodel_pah.ipynb"
   ]
  },
  {
   "cell_type": "code",
   "execution_count": 8,
   "metadata": {},
   "outputs": [
    {
     "data": {
      "text/plain": [
       "40"
      ]
     },
     "execution_count": 8,
     "metadata": {},
     "output_type": "execute_result"
    }
   ],
   "source": [
    "### Create dictionary of historical model names (element 7) and associated ensemble members (element 9)\n",
    "\n",
    "hist_model_data_dir = \"/badc/cmip6/data/CMIP6/CMIP/*/*/historical/*/Amon/ua/gn/latest\"\n",
    "hist_data_in_dir_paths = glob(hist_model_data_dir)\n",
    "hist_models = {}\n",
    "for i in range(0,len(hist_data_in_dir_paths)):\n",
    "    model_name = hist_data_in_dir_paths[i].split(sep='/')[7]\n",
    "    if model_name not in hist_models:\n",
    "        hist_models[model_name] = [hist_data_in_dir_paths[i].split(sep='/')[9]] # assign member to list\n",
    "    else:\n",
    "        hist_models[model_name].append(hist_data_in_dir_paths[i].split(sep='/')[9])\n",
    "len(hist_models.keys())"
   ]
  },
  {
   "cell_type": "code",
   "execution_count": 9,
   "metadata": {},
   "outputs": [
    {
     "data": {
      "text/plain": [
       "29"
      ]
     },
     "execution_count": 9,
     "metadata": {},
     "output_type": "execute_result"
    }
   ],
   "source": [
    "### Create dictionary of ssp585 model names (element 7) and associated ensemble members (element 9)\n",
    "\n",
    "rcp85_data_dir = \"/badc/cmip6/data/CMIP6/ScenarioMIP/*/*/ssp585/*/Amon/ua/gn/latest\"\n",
    "data_in_dir_paths = glob(rcp85_data_dir)\n",
    "rcp85_models = {}\n",
    "for i in range(0,len(data_in_dir_paths)):\n",
    "    model_name = data_in_dir_paths[i].split(sep='/')[7]\n",
    "    if model_name not in rcp85_models:\n",
    "        rcp85_models[model_name] = [data_in_dir_paths[i].split(sep='/')[9]] # assign member to list\n",
    "    else:\n",
    "        rcp85_models[model_name].append(data_in_dir_paths[i].split(sep='/')[9])\n",
    "len(rcp85_models.keys())"
   ]
  },
  {
   "cell_type": "code",
   "execution_count": 12,
   "metadata": {},
   "outputs": [
    {
     "name": "stdout",
     "output_type": "stream",
     "text": [
      "['TaiESM1', 'AWI-CM-1-1-MR', 'BCC-CSM2-MR', 'CAMS-CSM1-0', 'CAS-ESM2-0', 'FGOALS-g3', 'IITM-ESM', 'CanESM5', 'CanESM5-CanOE', 'CMCC-CM2-SR5', 'CMCC-ESM2', 'ACCESS-ESM1-5', 'ACCESS-CM2', 'MPI-ESM1-2-HR', 'FIO-ESM-2-0', 'MIROC-ES2L', 'MIROC6', 'HadGEM3-GC31-LL', 'HadGEM3-GC31-MM', 'UKESM1-0-LL', 'MPI-ESM1-2-LR', 'MRI-ESM2-0', 'GISS-E2-1-G', 'CESM2', 'CESM2-WACCM', 'NorESM2-LM', 'NorESM2-MM', 'NESM3', 'MCM-UA-1-0']\n"
     ]
    }
   ],
   "source": [
    "### Turn the dictionary (rcp85_models, hist_models) into a list of model names\n",
    "\n",
    "rcp85_models_list = list(rcp85_models.keys())\n",
    "hist_models_list = list(hist_models.keys())\n",
    "rcp85_models_list[24], rcp85_models_list[28], hist_models_list[29]\n",
    "print(rcp85_models_list)"
   ]
  },
  {
   "cell_type": "code",
   "execution_count": 32,
   "metadata": {},
   "outputs": [
    {
     "name": "stdout",
     "output_type": "stream",
     "text": [
      "0 TaiESM1\n",
      "1 AWI-CM-1-1-MR\n",
      "2 AWI-ESM-1-1-LR\n",
      "2 BCC-CSM2-MR\n",
      "3 BCC-ESM1\n",
      "3 CAMS-CSM1-0\n",
      "4 CAS-ESM2-0\n",
      "5 FGOALS-g3\n",
      "6 IITM-ESM\n",
      "7 CanESM5\n",
      "8 CanESM5-CanOE\n",
      "9 CMCC-CM2-HR4\n",
      "9 CMCC-CM2-SR5\n",
      "10 CMCC-ESM2\n",
      "11 ACCESS-ESM1-5\n",
      "12 ACCESS-CM2\n",
      "13 FIO-ESM-2-0\n",
      "14 MPI-ESM-1-2-HAM\n",
      "14 MIROC-ES2H\n",
      "14 MIROC-ES2L\n",
      "15 MIROC6\n",
      "16 HadGEM3-GC31-LL\n",
      "17 HadGEM3-GC31-MM\n",
      "18 UKESM1-0-LL\n",
      "Couldn't read /home/users/cjm317/CMIP6_Hackathon/RCP85/UKESM1-0-LL_r1i1p1f2_DJF_zonal_mean_ua_Amon_2070-2099.nc\n",
      "20 MPI-ESM1-2-HR\n",
      "21 MPI-ESM1-2-LR\n",
      "22 MRI-ESM2-0\n",
      "23 GISS-E2-1-G\n",
      "24 GISS-E2-1-G-CC\n",
      "24 GISS-E2-1-H\n",
      "24 CESM2\n",
      "25 CESM2-FV2\n",
      "25 CESM2-WACCM\n",
      "26 CESM2-WACCM-FV2\n",
      "26 NorCPM1\n",
      "26 NorESM2-LM\n",
      "27 NorESM2-MM\n",
      "28 NESM3\n",
      "29 SAM0-UNICON\n",
      "29 MCM-UA-1-0\n"
     ]
    }
   ],
   "source": [
    "### Create list of 30 yr differences in zonal mean zonal wind for each model in both \"hist_models\" and \"rcp85_models\" dictionaries \n",
    "#      from previously calculated ensemble member 30yr mean DJF zonal mean zonal winds for\n",
    "#     the \"historical\" simulation : over 1850-01-16 - 1880-12-16 and \n",
    "#     the \"ssp585\" experiment : over 1969-01-16 - 1999-12-16\n",
    "\n",
    "diff_all_models = [] #np.zeros(len(hist_models)) #\n",
    "model_name_fig = []\n",
    "dt=0\n",
    "for model in hist_models:\n",
    "    print(dt, model)\n",
    "    if (dt>0) : #&(dt!=28): #16:\n",
    "        #model = list(hist_models.keys())[2]\n",
    "        dm=0\n",
    "        for member in hist_models[model]:\n",
    "            if model in list(rcp85_models.keys()) and member in rcp85_models[model]:\n",
    "                #print(model, member, dm)\n",
    "                indir='/home/users/cjm317/CMIP6_Hackathon/Historical'\n",
    "                infile=f'{model}_{member}_DJF_zonal_mean_ua_Amon_1981-2010.nc' #1850-1880.nc' #\n",
    "                zm_hist = xr.open_mfdataset(f'{indir}/{infile}')\n",
    "\n",
    "                indir='/home/users/cjm317/CMIP6_Hackathon/RCP85'\n",
    "                infile=f'{model}_{member}_DJF_zonal_mean_ua_Amon_2070-2099.nc'\n",
    "                \n",
    "                try:\n",
    "                    zm_rcp85 = xr.open_mfdataset(f'{indir}/{infile}')\n",
    "\n",
    "                    if dm==0:\n",
    "                        dt+=1\n",
    "                        diff = zm_rcp85 - zm_hist\n",
    "                        model_name_fig.append(model)\n",
    "                    else:\n",
    "                        diff_tmp = zm_hist - zm_rcp85\n",
    "                        diff = diff + diff_tmp\n",
    "                    dm+=1\n",
    "                    #print(dm)\n",
    "                except :\n",
    "                    if dm==0:\n",
    "                        dt+=1\n",
    "                    print(\"Couldn't read \"+f'{indir}/{infile}')\n",
    "                    pass\n",
    "        if dm > 0:\n",
    "            diff = diff/dm\n",
    "            diff['plev'] = diff.plev.values/100\n",
    "            diff_all_models.append(diff)\n",
    "    else: \n",
    "        dt+=1\n",
    "        "
   ]
  },
  {
   "cell_type": "code",
   "execution_count": 31,
   "metadata": {},
   "outputs": [
    {
     "data": {
      "text/plain": [
       "(['AWI-CM-1-1-MR',\n",
       "  'BCC-CSM2-MR',\n",
       "  'CAMS-CSM1-0',\n",
       "  'CAS-ESM2-0',\n",
       "  'FGOALS-g3',\n",
       "  'IITM-ESM',\n",
       "  'CanESM5',\n",
       "  'CanESM5-CanOE',\n",
       "  'CMCC-CM2-SR5',\n",
       "  'CMCC-ESM2',\n",
       "  'ACCESS-ESM1-5',\n",
       "  'ACCESS-CM2',\n",
       "  'FIO-ESM-2-0',\n",
       "  'MIROC-ES2L',\n",
       "  'MIROC6',\n",
       "  'HadGEM3-GC31-LL',\n",
       "  'HadGEM3-GC31-MM',\n",
       "  'UKESM1-0-LL',\n",
       "  'MPI-ESM1-2-HR',\n",
       "  'MPI-ESM1-2-LR',\n",
       "  'MRI-ESM2-0',\n",
       "  'GISS-E2-1-G',\n",
       "  'CESM2',\n",
       "  'CESM2-WACCM',\n",
       "  'NorESM2-LM',\n",
       "  'NorESM2-MM',\n",
       "  'NESM3',\n",
       "  'MCM-UA-1-0'],\n",
       " 28)"
      ]
     },
     "execution_count": 31,
     "metadata": {},
     "output_type": "execute_result"
    }
   ],
   "source": [
    "#f'{indir}/{infile}'as213 \n",
    "#!ncdump -h '{indir}/{infile}'\n",
    "#model_name_fig, len(model_name_fig)"
   ]
  },
  {
   "cell_type": "code",
   "execution_count": 34,
   "metadata": {},
   "outputs": [
    {
     "name": "stdout",
     "output_type": "stream",
     "text": [
      "TaiESM1\n",
      "AWI-CM-1-1-MR\n",
      "BCC-CSM2-MR\n",
      "CAMS-CSM1-0\n",
      "CAS-ESM2-0\n",
      "FGOALS-g3\n",
      "IITM-ESM\n",
      "CanESM5\n",
      "CanESM5-CanOE\n",
      "CMCC-CM2-SR5\n",
      "CMCC-ESM2\n",
      "ACCESS-ESM1-5\n",
      "ACCESS-CM2\n",
      "MPI-ESM1-2-HR\n",
      "FIO-ESM-2-0\n",
      "MIROC-ES2L\n",
      "MIROC6\n",
      "HadGEM3-GC31-LL\n",
      "HadGEM3-GC31-MM\n",
      "UKESM1-0-LL\n",
      "MPI-ESM1-2-LR\n",
      "MRI-ESM2-0\n",
      "GISS-E2-1-G\n",
      "CESM2\n"
     ]
    },
    {
     "name": "stderr",
     "output_type": "stream",
     "text": [
      "/gws/pw/j05/cop26_hackathons/bristol/env/lib/python3.8/site-packages/xarray/conventions.py:512: SerializationWarning: variable 'tas' has multiple fill values {1e+20, 1e+20}, decoding all values to NaN.\n",
      "  new_vars[k] = decode_cf_variable(\n"
     ]
    },
    {
     "name": "stdout",
     "output_type": "stream",
     "text": [
      "CESM2-WACCM\n"
     ]
    },
    {
     "name": "stderr",
     "output_type": "stream",
     "text": [
      "/gws/pw/j05/cop26_hackathons/bristol/env/lib/python3.8/site-packages/xarray/conventions.py:512: SerializationWarning: variable 'tas' has multiple fill values {1e+20, 1e+20}, decoding all values to NaN.\n",
      "  new_vars[k] = decode_cf_variable(\n",
      "/gws/pw/j05/cop26_hackathons/bristol/env/lib/python3.8/site-packages/xarray/conventions.py:512: SerializationWarning: variable 'tas' has multiple fill values {1e+20, 1e+20}, decoding all values to NaN.\n",
      "  new_vars[k] = decode_cf_variable(\n",
      "/gws/pw/j05/cop26_hackathons/bristol/env/lib/python3.8/site-packages/xarray/conventions.py:512: SerializationWarning: variable 'tas' has multiple fill values {1e+20, 1e+20}, decoding all values to NaN.\n",
      "  new_vars[k] = decode_cf_variable(\n"
     ]
    },
    {
     "name": "stdout",
     "output_type": "stream",
     "text": [
      "NorESM2-LM\n",
      "NorESM2-MM\n",
      "NESM3\n",
      "MCM-UA-1-0\n"
     ]
    }
   ],
   "source": [
    "#Load in temperature data\n",
    "### Create list of 30 yr mean 2m temperature data from models in both \"hist_models\" and \"rcp85_models\" dictionaries\n",
    "\n",
    "# Calculate zonal mean 2m temperature (mean over all longitudes) and sub-select by latitude (N hem = 0,90)\n",
    "# Select winter months (DJF=Dec-Feb) from zonal mean 2m temp\n",
    "# Calculate difference between two 30-yr means of zonal mean 2m temp for\n",
    "#     the \"historical\" simulation : over 1850-01-16 - 1880-12-16 and \n",
    "#     the \"ssp585\" experiment : over 1969-01-16 - 1999-12-16\n",
    "\n",
    "ds_temp_all_models_list = []\n",
    "temp_model_name_fig = []\n",
    "for model in rcp85_models: #islice(rcp85_models,20,29) : #islice(models,29):\n",
    "    i=0\n",
    "    print(model)\n",
    "    for member in rcp85_models[model] : #, 24:\n",
    "        #print(model)\n",
    "        if model == 'MRI-ESM2-0':\n",
    "            forc_model_data_in_dir_paths = ['/badc/cmip6/data/CMIP6/ScenarioMIP/MRI/MRI-ESM2-0/ssp585/r1i1p1f1/Amon/tas/gn/latest/tas_Amon_MRI-ESM2-0_ssp585_r1i1p1f1_gn_201501-210012.nc']\n",
    "        else:\n",
    "            forc_model_data_dir = \"/badc/cmip6/data/CMIP6/ScenarioMIP/*/\"+ str(model)+'/ssp585/'+str(member)+'/Amon/tas/gn/latest/*'\n",
    "            forc_model_data_in_dir_paths = glob(forc_model_data_dir)\n",
    "        #forc_model_data_dir = \"/badc/cmip6/data/CMIP6/ScenarioMIP/*/\"+ str(model)+'/ssp585/'+str(member)+'/Amon/tas/gn/latest/*'\n",
    "        hist_model_data_dir = \"/badc/cmip6/data/CMIP6/CMIP/*/\"+ str(model)+'/historical/'+str(member)+'/Amon/tas/gn/latest/*'\n",
    "        #forc_model_data_in_dir_paths = glob(forc_model_data_dir)\n",
    "        hist_model_data_in_dir_paths = glob(hist_model_data_dir)\n",
    "        if (len(forc_model_data_in_dir_paths)>0) & (len(hist_model_data_in_dir_paths))>0 :\n",
    "            hist_endtime = str(hist_model_data_in_dir_paths[-1])[-9:-3]\n",
    "            forc_starttime = str(forc_model_data_in_dir_paths[0])[-16:-10]\n",
    "            if hist_endtime>forc_starttime :\n",
    "                model_data_in_dir_paths_all = forc_model_data_in_dir_paths + hist_model_data_in_dir_paths[:-1]\n",
    "            else :\n",
    "                model_data_in_dir_paths_all = forc_model_data_in_dir_paths + hist_model_data_in_dir_paths\n",
    "            #print(len(model_data_in_dir_paths_all))\n",
    "            ds_n = xr.open_mfdataset(model_data_in_dir_paths_all)\n",
    "            #print(ds_n)\n",
    "            if int(str(ds_n.time[-1].values)[0:4]) >= 2099 :\n",
    "            #have it make sure that last time is 2099-12 before computing\n",
    "                try : #exists(ds['latitude']):\n",
    "                    ds_n = ds_n.rename({'latitude':'lat', 'longitude':'lon'})\n",
    "                except ValueError : \n",
    "                    pass\n",
    "                ds_n = ds_n.mean(dim='lon') #.sel(lat=slice(0, 90))\n",
    "                is_winter = ds_n['time'].dt.season == 'DJF'\n",
    "                ds_n_winter = ds_n.isel(time=is_winter)\n",
    "                ds_n_endyrs = ds_n_winter.sel(time=slice('2069-01-16', '2099-12-16')).mean(dim='time')\n",
    "                ds_n_startyrs = ds_n_winter.sel(time=slice('1981-01-16', '2010-12-16')).mean(dim='time') #(time=slice('1850-01-16', '1880-12-16')).mean(dim='time')\n",
    "                #calculate change in temperature everywhere\n",
    "                ds_n_yrsdiff = ds_n_endyrs - ds_n_startyrs\n",
    "                if i==0 : \n",
    "                    ds_temp = ds_n_yrsdiff\n",
    "                if i>0 : \n",
    "                    ds_temp = ds_temp + ds_n_yrsdiff\n",
    "                i+=1\n",
    "    ds_temp = ds_temp/i\n",
    "    temp_model_name_fig.append(model)\n",
    "    ds_temp_all_models_list.append(ds_temp)\n",
    "    \n",
    "    ### Alternative to a list is to write out datasets (ds_t) to netcdf \n",
    "    #      datasets as a list makes the above script quicker BUT takes longer to plot (below)\n",
    "    #      datasets saved as netcdf files is quicker to plot BUT it takes longer to create the files\n",
    "    #   If you want to create netcdf files - look at Colin's script + submit a LOTUS batch job\n",
    "    \n",
    "    #ds_t.to_netcdf('/gws/pw/j05/cop26_hackathons/bristol/project05/cmip6_zonal_ensemble_mean/'+str(model)+'_ensmean_DJF_zonal_mean_ua_Amon_diff_2069-2099_1850-1880.nc')\n",
    "    #ds_t.to_netcdf('/home/users/phohud/pah_phd_scripts/cmip6_hack/cmip6_zonal_ensmean/'+str(model)+'_ensmean_DJF_zonal_mean_ua_Amon_diff_2069-2099_1850-1880.nc')\n",
    "    \n",
    "   "
   ]
  },
  {
   "cell_type": "code",
   "execution_count": null,
   "metadata": {},
   "outputs": [],
   "source": [
    "#hist_model_data_in_dir_paths, forc_model_data_in_dir_paths\n",
    "#hist_endtime, forc_starttime"
   ]
  },
  {
   "cell_type": "code",
   "execution_count": 33,
   "metadata": {},
   "outputs": [
    {
     "data": {
      "text/plain": [
       "29"
      ]
     },
     "execution_count": 33,
     "metadata": {},
     "output_type": "execute_result"
    }
   ],
   "source": [
    "#len(ds_temp_all_models_list)"
   ]
  },
  {
   "cell_type": "code",
   "execution_count": 108,
   "metadata": {},
   "outputs": [
    {
     "name": "stderr",
     "output_type": "stream",
     "text": [
      "/gws/pw/j05/cop26_hackathons/bristol/env/lib/python3.8/site-packages/dask/array/numpy_compat.py:39: RuntimeWarning: invalid value encountered in true_divide\n",
      "  x = np.divide(x1, x2, out)\n",
      "/gws/pw/j05/cop26_hackathons/bristol/env/lib/python3.8/site-packages/dask/core.py:121: RuntimeWarning: divide by zero encountered in true_divide\n",
      "  return func(*(_execute_task(a, cache) for a in args))\n",
      "/gws/pw/j05/cop26_hackathons/bristol/env/lib/python3.8/site-packages/dask/array/core.py:4403: RuntimeWarning: invalid value encountered in float_scalars\n",
      "  result = function(*args, **kwargs)\n",
      "/gws/pw/j05/cop26_hackathons/bristol/env/lib/python3.8/site-packages/dask/core.py:121: RuntimeWarning: divide by zero encountered in true_divide\n",
      "  return func(*(_execute_task(a, cache) for a in args))\n",
      "/gws/pw/j05/cop26_hackathons/bristol/env/lib/python3.8/site-packages/dask/array/core.py:4403: RuntimeWarning: invalid value encountered in float_scalars\n",
      "  result = function(*args, **kwargs)\n",
      "/gws/pw/j05/cop26_hackathons/bristol/env/lib/python3.8/site-packages/dask/core.py:121: RuntimeWarning: divide by zero encountered in true_divide\n",
      "  return func(*(_execute_task(a, cache) for a in args))\n",
      "/gws/pw/j05/cop26_hackathons/bristol/env/lib/python3.8/site-packages/dask/array/core.py:4403: RuntimeWarning: invalid value encountered in float_scalars\n",
      "  result = function(*args, **kwargs)\n",
      "/gws/pw/j05/cop26_hackathons/bristol/env/lib/python3.8/site-packages/dask/core.py:121: RuntimeWarning: divide by zero encountered in true_divide\n",
      "  return func(*(_execute_task(a, cache) for a in args))\n",
      "/gws/pw/j05/cop26_hackathons/bristol/env/lib/python3.8/site-packages/dask/array/core.py:4403: RuntimeWarning: invalid value encountered in float_scalars\n",
      "  result = function(*args, **kwargs)\n",
      "/gws/pw/j05/cop26_hackathons/bristol/env/lib/python3.8/site-packages/dask/core.py:121: RuntimeWarning: divide by zero encountered in true_divide\n",
      "  return func(*(_execute_task(a, cache) for a in args))\n",
      "/gws/pw/j05/cop26_hackathons/bristol/env/lib/python3.8/site-packages/dask/array/core.py:4403: RuntimeWarning: invalid value encountered in float_scalars\n",
      "  result = function(*args, **kwargs)\n"
     ]
    },
    {
     "name": "stdout",
     "output_type": "stream",
     "text": [
      "CPU times: user 4min 4s, sys: 1min 39s, total: 5min 43s\n",
      "Wall time: 4min 51s\n"
     ]
    },
    {
     "data": {
      "text/plain": [
       "array([2.25039363, 2.1396637 , 2.09347868, 1.72707868, 1.99864948,\n",
       "       2.25490165, 2.07458115, 2.28475881, 2.29735708, 2.12051511,\n",
       "       2.18337035, 2.23951197, 2.23336053, 2.30544329, 2.32625508,\n",
       "       2.2895391 ,        nan,        nan,        nan,        nan,\n",
       "       2.16845989, 2.35212302,        nan, 2.08516359, 2.10667777,\n",
       "       1.89850283, 1.91403651, 2.36388183, 2.08149099])"
      ]
     },
     "execution_count": 108,
     "metadata": {},
     "output_type": "execute_result"
    }
   ],
   "source": [
    "%%time\n",
    "### Calculate index for Arctic Amplification (AA) using difference betw \"ssp585\" and \"historical\" zonal mean DJF 2m temperature data\n",
    "#     index calculated as difference betw 2 boxes over an Arctic latitude band (70-90N) and a reference latitude band (0-90N)\n",
    "\n",
    "#Set region of boxes\n",
    "aa_lat_box_a_min = 70 #65\n",
    "aa_lat_box_a_max = 90\n",
    "aa_lat_box_ml_max = 0 #25\n",
    "aa_lat_box_ml_min = -90\n",
    "\n",
    "#zwri = np.zeros(len(diff_all_models))\n",
    "#spv = np.zeros(len(diff_all_models))\n",
    "aa_ind_dict = {}\n",
    "aa_ind_arctic_all = {} #np.zeros(len(ds_temp_all_models_list)) \n",
    "aa_ind = np.zeros(len(ds_temp_all_models_list)) \n",
    "\n",
    "for i in range(len(ds_temp_all_models_list)):\n",
    "    aa_ind_arctic = ds_temp_all_models_list[i].sel(lat=slice(aa_lat_box_a_min, aa_lat_box_a_max)).mean('lat')\n",
    "    aa_ind_midlat = ds_temp_all_models_list[i].sel(lat=slice(aa_lat_box_ml_min, aa_lat_box_ml_max)).mean('lat')\n",
    "    aa_ind_i = aa_ind_arctic/aa_ind_midlat\n",
    "    #this next line takes a while to run\n",
    "    #aa_ind_arctic_all[i]=aa_ind_arctic.tas.values\n",
    "    aa_ind_arctic_all[temp_model_name_fig[i]]=aa_ind_arctic.tas.values\n",
    "    aa_ind[i]=aa_ind_i.tas.values\n",
    "    aa_ind_dict[temp_model_name_fig[i]] = float(aa_ind[i]) #float(aa_ind_i.tas.values)\n",
    "aa_ind"
   ]
  },
  {
   "cell_type": "code",
   "execution_count": 44,
   "metadata": {},
   "outputs": [
    {
     "data": {
      "text/plain": [
       "2.058245897293091"
      ]
     },
     "execution_count": 44,
     "metadata": {},
     "output_type": "execute_result"
    }
   ],
   "source": [
    "#float(aa_ind_i.tas.values)"
   ]
  },
  {
   "cell_type": "code",
   "execution_count": null,
   "metadata": {},
   "outputs": [],
   "source": [
    "#diff_all_models[0]\n",
    "#zwri_n = diff_all_models[0].sel(plev=slice(plev_max, plev_min)).sel(lat=slice(lat_box2_min, lat_box2_max)).mean('lat').mean('plev')\n",
    "#zwri_s = diff_all_models[0].sel(plev=slice(plev_max, plev_min)).sel(lat=slice(lat_box1_min, lat_box1_max)).mean('lat').mean('plev')\n",
    "#zwri_i = zwri_n - zwri_s\n",
    "#zwri_i.ua.values"
   ]
  },
  {
   "cell_type": "code",
   "execution_count": 109,
   "metadata": {},
   "outputs": [
    {
     "name": "stderr",
     "output_type": "stream",
     "text": [
      "/gws/pw/j05/cop26_hackathons/bristol/env/lib/python3.8/site-packages/dask/array/numpy_compat.py:39: RuntimeWarning: invalid value encountered in true_divide\n",
      "  x = np.divide(x1, x2, out)\n"
     ]
    },
    {
     "name": "stdout",
     "output_type": "stream",
     "text": [
      "CPU times: user 2.13 s, sys: 307 ms, total: 2.43 s\n",
      "Wall time: 3.52 s\n"
     ]
    },
    {
     "name": "stderr",
     "output_type": "stream",
     "text": [
      "/gws/pw/j05/cop26_hackathons/bristol/env/lib/python3.8/site-packages/dask/array/numpy_compat.py:39: RuntimeWarning: invalid value encountered in true_divide\n",
      "  x = np.divide(x1, x2, out)\n"
     ]
    },
    {
     "data": {
      "text/plain": [
       "array([-0.46375746, -2.29991913, -2.0794704 ,  2.61464143, -0.48169097,\n",
       "       -2.91834998, -8.62561417,  5.7635603 ,  6.31838655,  3.73977327,\n",
       "        1.72597277,  6.59243011,  3.50075006,  3.66399622,  0.72927344,\n",
       "       -2.08102417, -3.8581779 ,         nan,  0.70861423,  1.46322381,\n",
       "        4.39268827,  5.82512426,  0.17979871,  1.19537878,  3.77655268,\n",
       "       -0.97157216,  3.95087218,         nan])"
      ]
     },
     "execution_count": 109,
     "metadata": {},
     "output_type": "execute_result"
    }
   ],
   "source": [
    "%%time \n",
    "### Calculate ZWRI (zonal wind response index) and SPV (strength of stratospheric polar vortex) using difference betw \"ssp585\" and \"historical\" DJF zonal mean zonal wind\n",
    "#     index calculated as difference betw 2 boxes (30-39N and 54-63N)\n",
    "\n",
    "#Set region of box\n",
    "plev_min = 150\n",
    "plev_max = 600\n",
    "zwri_lat_box1_min = 30\n",
    "zwri_lat_box1_max = 39\n",
    "zwri_lat_box2_min = 54\n",
    "zwri_lat_box2_max = 63\n",
    "\n",
    "\n",
    "zwri = np.zeros(len(diff_all_models))\n",
    "zwri_n_all = {}\n",
    "zwri_dict = {}\n",
    "spv = np.zeros(len(diff_all_models))\n",
    "spv_dict = {}\n",
    "\n",
    "for i in range(len(diff_all_models)):\n",
    "    zwri_n = diff_all_models[i].sel(plev=slice(plev_max, plev_min)).sel(lat=slice(zwri_lat_box2_min, zwri_lat_box2_max)).mean('lat').mean('plev')\n",
    "    zwri_s = diff_all_models[i].sel(plev=slice(plev_max, plev_min)).sel(lat=slice(zwri_lat_box1_min, zwri_lat_box1_max)).mean('lat').mean('plev')\n",
    "    zwri_i = zwri_n - zwri_s\n",
    "    spv_i = diff_all_models[i].sel(plev=10, method='nearest').sel(lat=slice(54, 66)).mean('lat') #.mean('plev')\n",
    "    #print(zwri_i.ua.values, spv_i)\n",
    "    zwri[i] = zwri_i.ua.values\n",
    "    zwri_n_all[model_name_fig[i]] = zwri_n.ua.values\n",
    "    spv[i] = spv_i.ua.values\n",
    "    zwri_dict[model_name_fig[i]] = float(zwri[i])\n",
    "    spv_dict[model_name_fig[i]] = float(spv[i])\n",
    "        \n",
    "zwri\n",
    "spv"
   ]
  },
  {
   "cell_type": "code",
   "execution_count": 122,
   "metadata": {},
   "outputs": [
    {
     "data": {
      "text/plain": [
       "-1.3748487"
      ]
     },
     "execution_count": 122,
     "metadata": {},
     "output_type": "execute_result"
    }
   ],
   "source": [
    "#diff_all_models[0]\n",
    "#spv = diff_all_models[0].sel(plev=10, method='nearest').sel(lat=slice(54, 66)).mean('lat') #.mean('plev')\n",
    "#spv #.ua.values\n",
    "#np.nanmin(np.asarray(list(zwri_n_all.values())))"
   ]
  },
  {
   "cell_type": "code",
   "execution_count": 193,
   "metadata": {},
   "outputs": [
    {
     "name": "stdout",
     "output_type": "stream",
     "text": [
      "29 28\n",
      "0.0218604365968435\n",
      "SpearmanrResult(correlation=0.39243365330321855, pvalue=0.07084079067181391)\n"
     ]
    },
    {
     "data": {
      "image/png": "[encoded data removed]",
      "text/plain": [
       "<Figure size 1000x600 with 1 Axes>"
      ]
     },
     "metadata": {
      "needs_background": "light"
     },
     "output_type": "display_data"
    }
   ],
   "source": [
    "### Scatterplot Arctic Amplification index vs SPV\n",
    "\n",
    "print(len(aa_ind), len(spv))\n",
    "\n",
    "aa_ind_list = []\n",
    "spv_list = []\n",
    "\n",
    "#overlay historical mean zonal wind as color\n",
    "#cmap=plt.get_cmap('Spectral') #('rainbow')\n",
    "\n",
    "#aa_ind_arctic_all\n",
    "\n",
    "fig, axes = plt.subplots() \n",
    "for model in aa_ind_dict :\n",
    "    try :\n",
    "        spv_dict[model]\n",
    "        plt.scatter(aa_ind_dict[model], spv_dict[model], c='b') #, c=cmap(zwri_dict[model]/np.nanmean(zwri)))\n",
    "        if np.isnan(aa_ind_dict[model]) or np.isnan(spv_dict[model]):\n",
    "            pass\n",
    "        else :\n",
    "            aa_ind_list.append(aa_ind_dict[model])\n",
    "            spv_list.append(spv_dict[model])\n",
    "    except :\n",
    "        pass\n",
    "m1, b1 = np.polyfit(aa_ind_list, spv_list, 1)\n",
    "c1 = spearmanr(aa_ind_list, spv_list) #pearsonr\n",
    "cov = np.cov(aa_ind_list, spv_list)\n",
    "print(cov[0,1]**2)\n",
    "#plt.scatter(aa_ind, spv)\n",
    "print(c1)\n",
    "plt.plot(np.asarray(aa_ind_list), np.asarray(aa_ind_list)*m1+b1, '--k')\n",
    "plt.xlabel('Arctic Amplification Index')\n",
    "plt.ylabel('Strength of Stratospheric Polar Vortex')\n",
    "plt.title('CMIP6 ScenarioMIP AAI vs SPV')\n",
    "plt.text(1.75, -8,('Spearman Corr Coeff: '+str(round(c1[0],3))))\n",
    "figdir = '/home/users/phohud/pah_phd_scripts/cmip6_hack/project05/results/'\n",
    "fig.savefig((figdir+'cmip6_AAI_SPV_scen585_2069-2099_hist_1981-2010_aai'+str(aa_lat_box_a_min)+'-'+str(aa_lat_box_a_max)+'_mli'+str(aa_lat_box_ml_min)+'-'+str(aa_lat_box_ml_max)+'N.png'), dpi=100, transparent=False, bbox_inches='tight', pad_inches=0.1)\n"
   ]
  },
  {
   "cell_type": "code",
   "execution_count": 177,
   "metadata": {},
   "outputs": [
    {
     "data": {
      "text/plain": [
       "0.39243365330321855"
      ]
     },
     "execution_count": 177,
     "metadata": {},
     "output_type": "execute_result"
    }
   ],
   "source": [
    "#'Spearman Corr Coeff: {1:02d}'.format(c1[0])\n",
    "#c1[0]"
   ]
  },
  {
   "cell_type": "code",
   "execution_count": 185,
   "metadata": {},
   "outputs": [
    {
     "name": "stdout",
     "output_type": "stream",
     "text": [
      "29 28\n",
      "SpearmanrResult(correlation=-0.21047430830039524, pvalue=0.33506327271090686)\n"
     ]
    },
    {
     "data": {
      "image/png": "[encoded data removed]",
      "text/plain": [
       "<Figure size 1000x800 with 2 Axes>"
      ]
     },
     "metadata": {
      "needs_background": "light"
     },
     "output_type": "display_data"
    }
   ],
   "source": [
    "### Scatterplot Arctic Amplification index vs ZWRI \n",
    "#     with zonal mean response in the higher latitude box (ZWI) denoted by the point color\n",
    "\n",
    "print(len(aa_ind), len(zwri))\n",
    "fig, ax = plt.subplots(figsize=(10,8)) \n",
    "#plt.scatter(aa_ind, zwri)\n",
    "\n",
    "aa_ind_list = []\n",
    "zwri_list = []\n",
    "\n",
    "cmap=plt.get_cmap('viridis') #'Spectral') #('rainbow')\n",
    "vmin = np.nanmin(np.asarray(list(zwri_n_all.values())))\n",
    "vmax = np.nanmax(np.asarray(list(zwri_n_all.values())))\n",
    "normalize=matplotlib.colors.Normalize(vmin=vmin, vmax=vmax)\n",
    "\n",
    "#aa_ind_arctic_all\n",
    "for model in aa_ind_dict :\n",
    "    try :\n",
    "        zwri_dict[model]\n",
    "        plt.scatter(aa_ind_dict[model], zwri_dict[model], color=cmap(zwri_n_all[model]), norm=normalize) #'b')\n",
    "        if np.isnan(aa_ind_dict[model]) or np.isnan(zwri_dict[model]):\n",
    "            pass\n",
    "        else :\n",
    "            aa_ind_list.append(aa_ind_dict[model])\n",
    "            zwri_list.append(zwri_dict[model])\n",
    "    except :\n",
    "        pass\n",
    "m1, b1 = np.polyfit(aa_ind_list, zwri_list, 1)\n",
    "c1 = spearmanr(aa_ind_list, zwri_list) #pearsonr\n",
    "#plt.scatter(aa_ind, spv)\n",
    "print(c1)\n",
    "plt.plot(np.asarray(aa_ind_list), np.asarray(aa_ind_list)*m1+b1, '--k')\n",
    "plt.xlabel('Arctic Amplification Index')\n",
    "plt.ylabel('ZWRI')\n",
    "plt.title('CMIP6 ScenarioMIP AAI vs ZWRI')\n",
    "plt.text(1.75, 1.5,('Spearman Corr Coeff: '+str(round(c1[0],3))))\n",
    "cax, _ = matplotlib.colorbar.make_axes(ax, orientation=\"horizontal\",pad=0.1)\n",
    "cbar = matplotlib.colorbar.ColorbarBase(cax, cmap=cmap, norm=normalize,orientation=\"horizontal\")\n",
    "cbar.set_label('ZWI '+str(zwri_lat_box2_min)+'-'+str(zwri_lat_box2_max)+'N',size=16)\n",
    "cbar.ax.tick_params(labelsize=16)\n",
    "\n",
    "figdir = '/home/users/phohud/pah_phd_scripts/cmip6_hack/project05/results/'\n",
    "fig.savefig((figdir+'cmip6_AAI_ZWRI_scen585_2069-2099_hist_1981-2010_co_aai'+str(aa_lat_box_a_min)+'-'+str(aa_lat_box_a_max)+'_mli'+str(aa_lat_box_ml_min)+'-'+str(aa_lat_box_ml_max)+'N.png'), dpi=100, transparent=False, bbox_inches='tight', pad_inches=0.1)\n"
   ]
  },
  {
   "cell_type": "code",
   "execution_count": 186,
   "metadata": {},
   "outputs": [
    {
     "name": "stdout",
     "output_type": "stream",
     "text": [
      "29 28\n",
      "SpearmanrResult(correlation=-0.3325804630152457, pvalue=0.13045381101860304)\n"
     ]
    },
    {
     "data": {
      "image/png": "[encoded data removed]",
      "text/plain": [
       "<Figure size 1000x600 with 1 Axes>"
      ]
     },
     "metadata": {
      "needs_background": "light"
     },
     "output_type": "display_data"
    }
   ],
   "source": [
    "### Scatterplot ZWRI vs zonal mean response in the higher latitude box (ZWI)\n",
    "\n",
    "print(len(aa_ind), len(zwri))\n",
    "fig, axes = plt.subplots() \n",
    "#plt.scatter(aa_ind, zwri)\n",
    "\n",
    "aa_ind_list = []\n",
    "zwri_n_list = []\n",
    "\n",
    "for model in aa_ind_dict :\n",
    "    try :\n",
    "        zwri_dict[model]\n",
    "        plt.scatter(aa_ind_dict[model], zwri_n_all[model], c='b')\n",
    "        if np.isnan(aa_ind_dict[model]) or np.isnan(spv_dict[model]):\n",
    "            pass\n",
    "        else :\n",
    "            aa_ind_list.append(aa_ind_dict[model])\n",
    "            zwri_n_list.append(zwri_n_all[model])\n",
    "    except :\n",
    "        pass\n",
    "m1, b1 = np.polyfit(aa_ind_list, zwri_n_list, 1)\n",
    "c1 = spearmanr(aa_ind_list, zwri_n_list) #pearsonr\n",
    "#plt.scatter(aa_ind, spv)\n",
    "print(c1)\n",
    "plt.plot(np.asarray(aa_ind_list), np.asarray(aa_ind_list)*m1+b1, '--k')\n",
    "plt.xlabel('Arctic Amplification Index')\n",
    "plt.ylabel('Mean Zonal Wind (m/s)')\n",
    "plt.title('CMIP6 ScenarioMIP AAI vs mean Zonal Wind Over '+str(zwri_lat_box2_min)+'-'+str(zwri_lat_box2_max)+'N')\n",
    "plt.text(1.75, 1.5,('Spearman Corr Coeff: '+str(round(c1[0],3))))\n",
    "figdir = '/home/users/phohud/pah_phd_scripts/cmip6_hack/project05/results/'\n",
    "fig.savefig((figdir+'cmip6_AAI_ZWI_scen585_2069-2099_hist_1981-2010_aai'+str(aa_lat_box_a_min)+'-'+str(aa_lat_box_a_max)+'_mli'+str(aa_lat_box_ml_min)+'-'+str(aa_lat_box_ml_max)+'N.png'), dpi=100, transparent=False, bbox_inches='tight', pad_inches=0.1)\n"
   ]
  },
  {
   "cell_type": "code",
   "execution_count": 195,
   "metadata": {},
   "outputs": [
    {
     "data": {
      "text/plain": [
       "{'AWI-CM-1-1-MR': -2.445075035095215,\n",
       " 'BCC-CSM2-MR': -3.0192830562591553,\n",
       " 'CAMS-CSM1-0': -2.308213710784912,\n",
       " 'CAS-ESM2-0': 1.0902020931243896,\n",
       " 'FGOALS-g3': -2.7104544639587402,\n",
       " 'IITM-ESM': -2.048552989959717,\n",
       " 'CanESM5': 0.22958306968212128,\n",
       " 'CanESM5-CanOE': -0.586239755153656,\n",
       " 'CMCC-CM2-SR5': 1.9439401626586914,\n",
       " 'CMCC-ESM2': 0.6401281952857971,\n",
       " 'ACCESS-ESM1-5': -0.6160816550254822,\n",
       " 'ACCESS-CM2': -0.8573334813117981,\n",
       " 'FIO-ESM-2-0': 0.4291418492794037,\n",
       " 'MIROC-ES2L': -0.8678706288337708,\n",
       " 'MIROC6': 0.08431855589151382,\n",
       " 'HadGEM3-GC31-LL': 1.4367237091064453,\n",
       " 'HadGEM3-GC31-MM': 0.30503106117248535,\n",
       " 'UKESM1-0-LL': nan,\n",
       " 'MPI-ESM1-2-HR': -2.8767242431640625,\n",
       " 'MPI-ESM1-2-LR': -2.0285301208496094,\n",
       " 'MRI-ESM2-0': -1.012099266052246,\n",
       " 'GISS-E2-1-G': -0.05359220504760742,\n",
       " 'CESM2': -0.274255633354187,\n",
       " 'CESM2-WACCM': 0.3303643465042114,\n",
       " 'NorESM2-LM': 2.3423349857330322,\n",
       " 'NorESM2-MM': -0.2359457015991211,\n",
       " 'NESM3': -2.6223576068878174,\n",
       " 'MCM-UA-1-0': -2.6075809001922607}"
      ]
     },
     "execution_count": 195,
     "metadata": {},
     "output_type": "execute_result"
    }
   ],
   "source": [
    "#aa_ind_dict\n",
    "#zwri_dict"
   ]
  },
  {
   "cell_type": "code",
   "execution_count": 95,
   "metadata": {},
   "outputs": [],
   "source": [
    "### Save AAI, ZWRI, SPV indices (dictionaries) as .pkl files\n",
    "\n",
    "outdir = '/home/users/phohud/pah_phd_scripts/cmip6_hack/project05/data/'\n",
    "outfilea = 'aa_ind_cmip6_scenariomip_scen585_2069-2099_hist_1981-2010_box_'+str(aa_lat_box_a_min)+'-'+str(aa_lat_box_a_max)+'mli_'+str(aa_lat_box_ml_min)+'-'+str(aa_lat_box_ml_max)+'N.pkl'\n",
    "with open(\"{}/{}\".format(outdir, outfile), \"wb\") as fp:\n",
    "         pickle.dump(aa_ind_dict, fp)\n",
    "#spv\n",
    "outfileb = 'spv_ind_cmip6_scenariomip_scen585_2069-2099_hist_1981-2010.pkl'\n",
    "with open(\"{}/{}\".format(outdir, outfile), \"wb\") as fp:\n",
    "         pickle.dump(spv_dict, fp)\n",
    "#zwri\n",
    "outfilec = 'zwri_ind_cmip6_scenariomip_scen585_2069-2099_hist_1981-2010.pkl'\n",
    "with open(\"{}/{}\".format(outdir, outfile), \"wb\") as fp:\n",
    "         pickle.dump(zwri_dict, fp)"
   ]
  },
  {
   "cell_type": "code",
   "execution_count": 84,
   "metadata": {},
   "outputs": [
    {
     "data": {
      "text/plain": [
       "{'AWI-CM-1-1-MR': -0.4637574553489685,\n",
       " 'BCC-CSM2-MR': -2.2999191284179688,\n",
       " 'CAMS-CSM1-0': -2.07947039604187,\n",
       " 'CAS-ESM2-0': 2.6146414279937744,\n",
       " 'FGOALS-g3': -0.4816909730434418,\n",
       " 'IITM-ESM': -2.9183499813079834,\n",
       " 'CanESM5': -8.625614166259766,\n",
       " 'CanESM5-CanOE': 5.7635602951049805,\n",
       " 'CMCC-CM2-SR5': 6.318386554718018,\n",
       " 'CMCC-ESM2': 3.7397732734680176,\n",
       " 'ACCESS-ESM1-5': 1.7259727716445923,\n",
       " 'ACCESS-CM2': 6.592430114746094,\n",
       " 'FIO-ESM-2-0': 3.5007500648498535,\n",
       " 'MIROC-ES2L': 3.6639962196350098,\n",
       " 'MIROC6': 0.7292734384536743,\n",
       " 'HadGEM3-GC31-LL': -2.081024169921875,\n",
       " 'HadGEM3-GC31-MM': -3.858177900314331,\n",
       " 'UKESM1-0-LL': nan,\n",
       " 'MPI-ESM1-2-HR': 0.7086142301559448,\n",
       " 'MPI-ESM1-2-LR': 1.4632238149642944,\n",
       " 'MRI-ESM2-0': 4.392688274383545,\n",
       " 'GISS-E2-1-G': 5.825124263763428,\n",
       " 'CESM2': 0.17979870736598969,\n",
       " 'CESM2-WACCM': 1.1953787803649902,\n",
       " 'NorESM2-LM': 3.776552677154541,\n",
       " 'NorESM2-MM': -0.9715721607208252,\n",
       " 'NESM3': 3.9508721828460693,\n",
       " 'MCM-UA-1-0': nan}"
      ]
     },
     "execution_count": 84,
     "metadata": {},
     "output_type": "execute_result"
    }
   ],
   "source": [
    "### Test loading the dictionary indiced files back in \n",
    "\n",
    "outdir = '/gws/pw/j05/cop26_hackathons/bristol/project05/project05/data'\n",
    "outfile_aa = 'aa_ind_cmip6_scenariomip_scen585_2069-2099_hist_1981-2010_box_'+str(aa_lat_box_a_min)+'-'+str(aa_lat_box_a_max)+'mli_'+str(aa_lat_box_ml_min)+'-'+str(aa_lat_box_ml_max)+'N.pkl'\n",
    "outfile_spv = 'spv_ind_cmip6_scenariomip_scen585_2069-2099_hist_1981-2010.pkl'\n",
    "outfile_zwri = 'zwri_ind_cmip6_scenariomip_scen585_2069-2099_hist_1981-2010.pkl'\n",
    "\n",
    "with open(\"{}/{}\".format(outdir, outfile_spv), \"rb\") as fp:\n",
    "         a = pickle.load(fp)\n",
    "a"
   ]
  }
 ],
 "metadata": {
  "kernelspec": {
   "display_name": "cmip6",
   "language": "python",
   "name": "cmip6"
  },
  "language_info": {
   "codemirror_mode": {
    "name": "ipython",
    "version": 3
   },
   "file_extension": ".py",
   "mimetype": "text/x-python",
   "name": "python",
   "nbconvert_exporter": "python",
   "pygments_lexer": "ipython3",
   "version": "3.8.10"
  }
 },
 "nbformat": 4,
 "nbformat_minor": 4
}
