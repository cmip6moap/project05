{
 "cells": [
  {
   "cell_type": "markdown",
   "metadata": {},
   "source": [
    "## Calculate and scatterplot several indices using the differnce betw 2 30yr means of zonal mean zonal wind (calc in <insert Colin's script name here> )\n",
    "\n",
    "## Indices calculated here include \n",
    "####   ZWRI (Zonal Wind Response Index), \n",
    "####   SPV (Strength of the Stratospheric Polar Vortex) and \n",
    "####   AA (Arctic Amplification) indices\n",
    "\n",
    "##### Created as part of PAMIP group during CMIP6 hackathon 2021\n",
    "##### Created by : Phoebe Hudson / Colin Manning\n"
   ]
  },
  {
   "cell_type": "code",
   "execution_count": 105,
   "metadata": {},
   "outputs": [],
   "source": [
    "from itertools import chain\n",
    "from itertools import islice\n",
    "from glob import glob\n",
    "\n",
    "import matplotlib\n",
    "import matplotlib.pyplot as plt\n",
    "import xarray as xr\n",
    "import numpy as np\n",
    "import re\n",
    "import os\n",
    "import subprocess\n",
    "import pickle\n",
    "from scipy.stats import pearsonr\n",
    "from scipy.stats import spearmanr\n",
    "\n",
    "# Set some plotting defaults\n",
    "plt.rcParams['figure.figsize'] = (10, 6)\n",
    "plt.rcParams['figure.dpi'] = 100\n",
    "\n",
    "#!jupyter nbconvert --to script lpsd_scenariomip_ua_multimodel_pah.ipynb"
   ]
  },
  {
   "cell_type": "code",
   "execution_count": 106,
   "metadata": {},
   "outputs": [],
   "source": [
    "start_year = 2070 #2035\n",
    "end_year = 2099 #2064\n",
    "rcp_scen = 'ssp245' #'ssp585' "
   ]
  },
  {
   "cell_type": "code",
   "execution_count": 107,
   "metadata": {},
   "outputs": [
    {
     "data": {
      "text/plain": [
       "40"
      ]
     },
     "execution_count": 107,
     "metadata": {},
     "output_type": "execute_result"
    }
   ],
   "source": [
    "### Create dictionary of historical model names (element 7) and associated ensemble members (element 9)\n",
    "\n",
    "hist_model_data_dir = \"/badc/cmip6/data/CMIP6/CMIP/*/*/historical/*/Amon/ua/gn/latest\"\n",
    "hist_data_in_dir_paths = glob(hist_model_data_dir)\n",
    "hist_models = {}\n",
    "for i in range(0,len(hist_data_in_dir_paths)):\n",
    "    model_name = hist_data_in_dir_paths[i].split(sep='/')[7]\n",
    "    if model_name not in hist_models:\n",
    "        hist_models[model_name] = [hist_data_in_dir_paths[i].split(sep='/')[9]] # assign member to list\n",
    "    else:\n",
    "        hist_models[model_name].append(hist_data_in_dir_paths[i].split(sep='/')[9])\n",
    "len(hist_models.keys())"
   ]
  },
  {
   "cell_type": "code",
   "execution_count": 108,
   "metadata": {},
   "outputs": [
    {
     "data": {
      "text/plain": [
       "28"
      ]
     },
     "execution_count": 108,
     "metadata": {},
     "output_type": "execute_result"
    }
   ],
   "source": [
    "### Create dictionary of ssp585 model names (element 7) and associated ensemble members (element 9)\n",
    "\n",
    "rcp85_data_dir = \"/badc/cmip6/data/CMIP6/ScenarioMIP/*/*/\"+rcp_scen+\"/*/Amon/ua/gn/latest\"\n",
    "data_in_dir_paths = glob(rcp85_data_dir)\n",
    "rcp85_models = {}\n",
    "for i in range(0,len(data_in_dir_paths)):\n",
    "    model_name = data_in_dir_paths[i].split(sep='/')[7]\n",
    "    if model_name not in rcp85_models:\n",
    "        rcp85_models[model_name] = [data_in_dir_paths[i].split(sep='/')[9]] # assign member to list\n",
    "    else:\n",
    "        rcp85_models[model_name].append(data_in_dir_paths[i].split(sep='/')[9])\n",
    "len(rcp85_models.keys())"
   ]
  },
  {
   "cell_type": "code",
   "execution_count": 109,
   "metadata": {},
   "outputs": [
    {
     "name": "stdout",
     "output_type": "stream",
     "text": [
      "['TaiESM1', 'AWI-CM-1-1-MR', 'BCC-CSM2-MR', 'CAMS-CSM1-0', 'CAS-ESM2-0', 'FGOALS-g3', 'IITM-ESM', 'CanESM5', 'CanESM5-CanOE', 'CMCC-CM2-SR5', 'CMCC-ESM2', 'ACCESS-ESM1-5', 'ACCESS-CM2', 'MPI-ESM1-2-HR', 'FIO-ESM-2-0', 'MIROC-ES2L', 'MIROC6', 'HadGEM3-GC31-LL', 'UKESM1-0-LL', 'MPI-ESM1-2-LR', 'MRI-ESM2-0', 'GISS-E2-1-G', 'CESM2', 'CESM2-WACCM', 'NorESM2-LM', 'NorESM2-MM', 'NESM3', 'MCM-UA-1-0']\n"
     ]
    }
   ],
   "source": [
    "### Turn the dictionary (rcp85_models, hist_models) into a list of model names\n",
    "\n",
    "rcp85_models_list = list(rcp85_models.keys())\n",
    "hist_models_list = list(hist_models.keys())\n",
    "#rcp85_models_list[24], rcp85_models_list[28], hist_models_list[29]\n",
    "print(rcp85_models_list)"
   ]
  },
  {
   "cell_type": "code",
   "execution_count": 110,
   "metadata": {},
   "outputs": [
    {
     "name": "stdout",
     "output_type": "stream",
     "text": [
      "0 TaiESM1\n",
      "1 AWI-CM-1-1-MR\n",
      "2 AWI-ESM-1-1-LR\n",
      "2 BCC-CSM2-MR\n",
      "3 BCC-ESM1\n",
      "3 CAMS-CSM1-0\n",
      "4 CAS-ESM2-0\n",
      "5 FGOALS-g3\n",
      "6 IITM-ESM\n",
      "7 CanESM5\n",
      "8 CanESM5-CanOE\n",
      "9 CMCC-CM2-HR4\n",
      "9 CMCC-CM2-SR5\n",
      "10 CMCC-ESM2\n",
      "11 ACCESS-ESM1-5\n",
      "12 ACCESS-CM2\n",
      "13 FIO-ESM-2-0\n",
      "14 MPI-ESM-1-2-HAM\n",
      "14 MIROC-ES2H\n",
      "14 MIROC-ES2L\n",
      "15 MIROC6\n",
      "16 HadGEM3-GC31-LL\n",
      "17 HadGEM3-GC31-MM\n",
      "17 UKESM1-0-LL\n",
      "18 MPI-ESM1-2-HR\n",
      "19 MPI-ESM1-2-LR\n",
      "20 MRI-ESM2-0\n",
      "21 GISS-E2-1-G\n",
      "22 GISS-E2-1-G-CC\n",
      "22 GISS-E2-1-H\n",
      "22 CESM2\n",
      "23 CESM2-FV2\n",
      "23 CESM2-WACCM\n",
      "24 CESM2-WACCM-FV2\n",
      "24 NorCPM1\n",
      "24 NorESM2-LM\n",
      "25 NorESM2-MM\n",
      "26 NESM3\n",
      "27 SAM0-UNICON\n",
      "27 MCM-UA-1-0\n"
     ]
    }
   ],
   "source": [
    "### Create list of 30 yr differences in zonal mean zonal wind for each model in both \"hist_models\" and \"rcp85_models\" dictionaries \n",
    "#      from previously calculated ensemble member 30yr mean DJF zonal mean zonal winds for\n",
    "#     the \"historical\" simulation : over 1850-01-16 - 1880-12-16 and \n",
    "#     the \"ssp585\" experiment : over 1969-01-16 - 1999-12-16\n",
    "\n",
    "\n",
    "\n",
    "diff_all_models = [] #np.zeros(len(hist_models)) #\n",
    "model_name_fig = []\n",
    "dt=0\n",
    "for model in hist_models:\n",
    "    print(dt, model)\n",
    "    if (dt>0) : #&(dt!=28): #16:\n",
    "        #model = list(hist_models.keys())[2]\n",
    "        dm=0\n",
    "        for member in hist_models[model]:\n",
    "            if model in list(rcp85_models.keys()) and member in rcp85_models[model]:\n",
    "                #print(model, member, dm)\n",
    "                indir='/home/users/cjm317/CMIP6_Hackathon/Historical'\n",
    "                infile=f'{model}_{member}_DJF_zonal_mean_ua_Amon_1981-2010.nc' #1850-1880.nc' #\n",
    "                zm_hist = xr.open_mfdataset(f'{indir}/{infile}')\n",
    "\n",
    "                indir='/home/users/cjm317/CMIP6_Hackathon/'+rcp_scen\n",
    "                infile=f'{model}_{member}_DJF_zonal_mean_ua_Amon_'+str(start_year)+'-'+str(end_year)+'.nc'\n",
    "                \n",
    "                try:\n",
    "                    zm_rcp85 = xr.open_mfdataset(f'{indir}/{infile}')\n",
    "\n",
    "                    if dm==0:\n",
    "                        dt+=1\n",
    "                        diff = zm_rcp85 - zm_hist\n",
    "                        model_name_fig.append(model)\n",
    "                    else:\n",
    "                        diff_tmp = zm_hist - zm_rcp85\n",
    "                        diff = diff + diff_tmp\n",
    "                    dm+=1\n",
    "                    #print(dm)\n",
    "                except :\n",
    "                    if dm==0:\n",
    "                        dt+=1\n",
    "                    print(\"Couldn't read \"+f'{indir}/{infile}')\n",
    "                    pass\n",
    "        if dm > 0:\n",
    "            diff = diff/dm\n",
    "            diff['plev'] = diff.plev.values/100\n",
    "            diff_all_models.append(diff)\n",
    "    else: \n",
    "        dt+=1\n",
    "        "
   ]
  },
  {
   "cell_type": "code",
   "execution_count": 111,
   "metadata": {},
   "outputs": [],
   "source": [
    "#f'{indir}/{infile}'as213 \n",
    "#!ncdump -h '{indir}/{infile}'\n",
    "#model_name_fig, len(model_name_fig)"
   ]
  },
  {
   "cell_type": "code",
   "execution_count": 112,
   "metadata": {},
   "outputs": [
    {
     "name": "stdout",
     "output_type": "stream",
     "text": [
      "TaiESM1\n",
      "AWI-CM-1-1-MR\n",
      "BCC-CSM2-MR\n",
      "CAMS-CSM1-0\n",
      "CAS-ESM2-0\n",
      "FGOALS-g3\n",
      "IITM-ESM\n",
      "CanESM5\n",
      "CanESM5-CanOE\n",
      "CMCC-CM2-SR5\n",
      "CMCC-ESM2\n",
      "ACCESS-ESM1-5\n",
      "ACCESS-CM2\n",
      "MPI-ESM1-2-HR\n",
      "FIO-ESM-2-0\n",
      "MIROC-ES2L\n",
      "MIROC6\n",
      "HadGEM3-GC31-LL\n",
      "UKESM1-0-LL\n",
      "MPI-ESM1-2-LR\n",
      "MRI-ESM2-0\n",
      "GISS-E2-1-G\n",
      "CESM2\n"
     ]
    },
    {
     "name": "stderr",
     "output_type": "stream",
     "text": [
      "/gws/pw/j05/cop26_hackathons/bristol/env/lib/python3.8/site-packages/xarray/conventions.py:512: SerializationWarning: variable 'tas' has multiple fill values {1e+20, 1e+20}, decoding all values to NaN.\n",
      "  new_vars[k] = decode_cf_variable(\n"
     ]
    },
    {
     "name": "stdout",
     "output_type": "stream",
     "text": [
      "CESM2-WACCM\n"
     ]
    },
    {
     "name": "stderr",
     "output_type": "stream",
     "text": [
      "/gws/pw/j05/cop26_hackathons/bristol/env/lib/python3.8/site-packages/xarray/conventions.py:512: SerializationWarning: variable 'tas' has multiple fill values {1e+20, 1e+20}, decoding all values to NaN.\n",
      "  new_vars[k] = decode_cf_variable(\n",
      "/gws/pw/j05/cop26_hackathons/bristol/env/lib/python3.8/site-packages/xarray/conventions.py:512: SerializationWarning: variable 'tas' has multiple fill values {1e+20, 1e+20}, decoding all values to NaN.\n",
      "  new_vars[k] = decode_cf_variable(\n",
      "/gws/pw/j05/cop26_hackathons/bristol/env/lib/python3.8/site-packages/xarray/conventions.py:512: SerializationWarning: variable 'tas' has multiple fill values {1e+20, 1e+20}, decoding all values to NaN.\n",
      "  new_vars[k] = decode_cf_variable(\n"
     ]
    },
    {
     "name": "stdout",
     "output_type": "stream",
     "text": [
      "NorESM2-LM\n",
      "NorESM2-MM\n",
      "NESM3\n",
      "MCM-UA-1-0\n"
     ]
    }
   ],
   "source": [
    "#Load in temperature data\n",
    "### Create list of 30 yr mean 2m temperature data from models in both \"hist_models\" and \"rcp85_models\" dictionaries\n",
    "\n",
    "# Calculate zonal mean 2m temperature (mean over all longitudes) and sub-select by latitude (N hem = 0,90)\n",
    "# Select winter months (DJF=Dec-Feb) from zonal mean 2m temp\n",
    "# Calculate difference between two 30-yr means of zonal mean 2m temp for\n",
    "#     the \"historical\" simulation : over 1850-01-16 - 1880-12-16 and \n",
    "#     the \"ssp585\" experiment : over 1969-01-16 - 1999-12-16\n",
    "\n",
    "ds_temp_all_models_list = []\n",
    "temp_model_name_fig = []\n",
    "for model in rcp85_models: #islice(rcp85_models,20,29) : #islice(models,29):\n",
    "    i=0\n",
    "    print(model)\n",
    "    for member in rcp85_models[model] : #, 24:\n",
    "        #print(model)\n",
    "        if model == 'MRI-ESM2-0':\n",
    "            forc_model_data_in_dir_paths = ['/badc/cmip6/data/CMIP6/ScenarioMIP/MRI/MRI-ESM2-0/ssp585/r1i1p1f1/Amon/tas/gn/latest/tas_Amon_MRI-ESM2-0_ssp585_r1i1p1f1_gn_201501-210012.nc']\n",
    "        else:\n",
    "            forc_model_data_dir = \"/badc/cmip6/data/CMIP6/ScenarioMIP/*/\"+ str(model)+'/'+rcp_scen+'/'+str(member)+'/Amon/tas/gn/latest/*'\n",
    "            forc_model_data_in_dir_paths = glob(forc_model_data_dir)\n",
    "        #forc_model_data_dir = \"/badc/cmip6/data/CMIP6/ScenarioMIP/*/\"+ str(model)+'/ssp585/'+str(member)+'/Amon/tas/gn/latest/*'\n",
    "        hist_model_data_dir = \"/badc/cmip6/data/CMIP6/CMIP/*/\"+ str(model)+'/historical/'+str(member)+'/Amon/tas/gn/latest/*'\n",
    "        #forc_model_data_in_dir_paths = glob(forc_model_data_dir)\n",
    "        hist_model_data_in_dir_paths = glob(hist_model_data_dir)\n",
    "        if (len(forc_model_data_in_dir_paths)>0) & (len(hist_model_data_in_dir_paths))>0 :\n",
    "            hist_endtime = str(hist_model_data_in_dir_paths[-1])[-9:-3]\n",
    "            forc_starttime = str(forc_model_data_in_dir_paths[0])[-16:-10]\n",
    "            if hist_endtime>forc_starttime :\n",
    "                model_data_in_dir_paths_all = forc_model_data_in_dir_paths + hist_model_data_in_dir_paths[:-1]\n",
    "            else :\n",
    "                model_data_in_dir_paths_all = forc_model_data_in_dir_paths + hist_model_data_in_dir_paths\n",
    "            #print(len(model_data_in_dir_paths_all))\n",
    "            ds_n = xr.open_mfdataset(model_data_in_dir_paths_all)\n",
    "            #print(ds_n)\n",
    "            if int(str(ds_n.time[-1].values)[0:4]) >= 2099 :\n",
    "            #have it make sure that last time is 2099-12 before computing\n",
    "                try : #exists(ds['latitude']):\n",
    "                    ds_n = ds_n.rename({'latitude':'lat', 'longitude':'lon'})\n",
    "                except ValueError : \n",
    "                    pass\n",
    "                ds_n = ds_n.mean(dim='lon') #.sel(lat=slice(0, 90))\n",
    "                is_winter = ds_n['time'].dt.season == 'DJF'\n",
    "                ds_n_winter = ds_n.isel(time=is_winter)\n",
    "                ds_n_endyrs = ds_n_winter.sel(time=slice(str(start_year)+'-01-16', str(end_year)+'-12-16')).mean(dim='time')\n",
    "                ds_n_startyrs = ds_n_winter.sel(time=slice('1981-01-16', '2010-12-16')).mean(dim='time') #(time=slice('1850-01-16', '1880-12-16')).mean(dim='time')\n",
    "                #calculate change in temperature everywhere\n",
    "                ds_n_yrsdiff = ds_n_endyrs - ds_n_startyrs\n",
    "                if i==0 : \n",
    "                    ds_temp = ds_n_yrsdiff\n",
    "                if i>0 : \n",
    "                    ds_temp = ds_temp + ds_n_yrsdiff\n",
    "                i+=1\n",
    "    ds_temp = ds_temp/i\n",
    "    temp_model_name_fig.append(model)\n",
    "    ds_temp_all_models_list.append(ds_temp)\n",
    "    \n",
    "    ### Alternative to a list is to write out datasets (ds_t) to netcdf \n",
    "    #      datasets as a list makes the above script quicker BUT takes longer to plot (below)\n",
    "    #      datasets saved as netcdf files is quicker to plot BUT it takes longer to create the files\n",
    "    #   If you want to create netcdf files - look at Colin's script + submit a LOTUS batch job\n",
    "    \n",
    "    #ds_t.to_netcdf('/gws/pw/j05/cop26_hackathons/bristol/project05/cmip6_zonal_ensemble_mean/'+str(model)+'_ensmean_DJF_zonal_mean_ua_Amon_diff_2069-2099_1850-1880.nc')\n",
    "    #ds_t.to_netcdf('/home/users/phohud/pah_phd_scripts/cmip6_hack/cmip6_zonal_ensmean/'+str(model)+'_ensmean_DJF_zonal_mean_ua_Amon_diff_2069-2099_1850-1880.nc')\n",
    "    \n",
    "   "
   ]
  },
  {
   "cell_type": "code",
   "execution_count": 113,
   "metadata": {},
   "outputs": [],
   "source": [
    "#hist_model_data_in_dir_paths, forc_model_data_in_dir_paths\n",
    "#hist_endtime, forc_starttime"
   ]
  },
  {
   "cell_type": "code",
   "execution_count": 114,
   "metadata": {},
   "outputs": [],
   "source": [
    "#len(ds_temp_all_models_list)"
   ]
  },
  {
   "cell_type": "code",
   "execution_count": 115,
   "metadata": {},
   "outputs": [
    {
     "name": "stderr",
     "output_type": "stream",
     "text": [
      "/gws/pw/j05/cop26_hackathons/bristol/env/lib/python3.8/site-packages/dask/core.py:121: RuntimeWarning: divide by zero encountered in true_divide\n",
      "  return func(*(_execute_task(a, cache) for a in args))\n",
      "/gws/pw/j05/cop26_hackathons/bristol/env/lib/python3.8/site-packages/dask/array/core.py:4403: RuntimeWarning: invalid value encountered in float_scalars\n",
      "  result = function(*args, **kwargs)\n",
      "/gws/pw/j05/cop26_hackathons/bristol/env/lib/python3.8/site-packages/dask/core.py:121: RuntimeWarning: divide by zero encountered in true_divide\n",
      "  return func(*(_execute_task(a, cache) for a in args))\n",
      "/gws/pw/j05/cop26_hackathons/bristol/env/lib/python3.8/site-packages/dask/array/core.py:4403: RuntimeWarning: invalid value encountered in float_scalars\n",
      "  result = function(*args, **kwargs)\n",
      "/gws/pw/j05/cop26_hackathons/bristol/env/lib/python3.8/site-packages/dask/core.py:121: RuntimeWarning: divide by zero encountered in true_divide\n",
      "  return func(*(_execute_task(a, cache) for a in args))\n",
      "/gws/pw/j05/cop26_hackathons/bristol/env/lib/python3.8/site-packages/dask/array/core.py:4403: RuntimeWarning: invalid value encountered in float_scalars\n",
      "  result = function(*args, **kwargs)\n",
      "/gws/pw/j05/cop26_hackathons/bristol/env/lib/python3.8/site-packages/dask/core.py:121: RuntimeWarning: divide by zero encountered in true_divide\n",
      "  return func(*(_execute_task(a, cache) for a in args))\n",
      "/gws/pw/j05/cop26_hackathons/bristol/env/lib/python3.8/site-packages/dask/array/core.py:4403: RuntimeWarning: invalid value encountered in float_scalars\n",
      "  result = function(*args, **kwargs)\n",
      "/gws/pw/j05/cop26_hackathons/bristol/env/lib/python3.8/site-packages/dask/core.py:121: RuntimeWarning: divide by zero encountered in true_divide\n",
      "  return func(*(_execute_task(a, cache) for a in args))\n",
      "/gws/pw/j05/cop26_hackathons/bristol/env/lib/python3.8/site-packages/dask/array/core.py:4403: RuntimeWarning: invalid value encountered in float_scalars\n",
      "  result = function(*args, **kwargs)\n"
     ]
    },
    {
     "name": "stdout",
     "output_type": "stream",
     "text": [
      "CPU times: user 5min 6s, sys: 1min 58s, total: 7min 5s\n",
      "Wall time: 6min 24s\n"
     ]
    },
    {
     "data": {
      "text/plain": [
       "array([5.03835344, 4.90653086, 4.45503426, 3.47405314,        nan,\n",
       "       5.33230257, 3.09113741, 8.67161465, 8.92883301, 8.24459076,\n",
       "       8.64243984, 6.55838299, 5.92849016, 5.47551155, 4.9540658 ,\n",
       "       8.24848461,        nan,        nan,        nan, 5.62374115,\n",
       "       5.15175247,        nan, 2.69840264, 3.08457804, 5.08283424,\n",
       "       5.16307783, 7.62354326, 4.5120244 ])"
      ]
     },
     "execution_count": 115,
     "metadata": {},
     "output_type": "execute_result"
    }
   ],
   "source": [
    "%%time\n",
    "### Calculate index for Arctic Amplification (AA) using difference betw \"ssp585\" and \"historical\" zonal mean DJF 2m temperature data\n",
    "#     index calculated as difference betw 2 boxes over an Arctic latitude band (70-90N) and a reference latitude band (0-90N)\n",
    "\n",
    "#Set region of boxes\n",
    "aa_lat_box_a_min = 70 #65\n",
    "aa_lat_box_a_max = 90\n",
    "aa_lat_box_ml_max = 0 #25\n",
    "aa_lat_box_ml_min = -90\n",
    "\n",
    "#zwri = np.zeros(len(diff_all_models))\n",
    "#spv = np.zeros(len(diff_all_models))\n",
    "aa_ind_dict = {}\n",
    "aa_ind_arctic_all = {} #np.zeros(len(ds_temp_all_models_list)) \n",
    "aa_ind = np.zeros(len(ds_temp_all_models_list)) \n",
    "\n",
    "for i in range(len(ds_temp_all_models_list)):\n",
    "    aa_ind_arctic = ds_temp_all_models_list[i].sel(lat=slice(aa_lat_box_a_min, aa_lat_box_a_max)).mean('lat')\n",
    "    aa_ind_midlat = ds_temp_all_models_list[i].sel(lat=slice(aa_lat_box_ml_min, aa_lat_box_ml_max)).mean('lat')\n",
    "    aa_ind_i = aa_ind_arctic/aa_ind_midlat\n",
    "    #this next line takes a while to run\n",
    "    #aa_ind_arctic_all[i]=aa_ind_arctic.tas.values\n",
    "    aa_ind_arctic_all[temp_model_name_fig[i]]=aa_ind_arctic.tas.values\n",
    "    aa_ind[i]=aa_ind_i.tas.values\n",
    "    aa_ind_dict[temp_model_name_fig[i]] = float(aa_ind[i]) #float(aa_ind_i.tas.values)\n",
    "aa_ind"
   ]
  },
  {
   "cell_type": "code",
   "execution_count": 116,
   "metadata": {},
   "outputs": [],
   "source": [
    "#float(aa_ind_i.tas.values)"
   ]
  },
  {
   "cell_type": "code",
   "execution_count": 117,
   "metadata": {},
   "outputs": [],
   "source": [
    "#diff_all_models[0]\n",
    "#zwri_n = diff_all_models[0].sel(plev=slice(plev_max, plev_min)).sel(lat=slice(lat_box2_min, lat_box2_max)).mean('lat').mean('plev')\n",
    "#zwri_s = diff_all_models[0].sel(plev=slice(plev_max, plev_min)).sel(lat=slice(lat_box1_min, lat_box1_max)).mean('lat').mean('plev')\n",
    "#zwri_i = zwri_n - zwri_s\n",
    "#zwri_i.ua.values"
   ]
  },
  {
   "cell_type": "code",
   "execution_count": 118,
   "metadata": {},
   "outputs": [
    {
     "name": "stderr",
     "output_type": "stream",
     "text": [
      "/gws/pw/j05/cop26_hackathons/bristol/env/lib/python3.8/site-packages/dask/array/numpy_compat.py:39: RuntimeWarning: invalid value encountered in true_divide\n",
      "  x = np.divide(x1, x2, out)\n",
      "/gws/pw/j05/cop26_hackathons/bristol/env/lib/python3.8/site-packages/dask/array/numpy_compat.py:39: RuntimeWarning: invalid value encountered in true_divide\n",
      "  x = np.divide(x1, x2, out)\n"
     ]
    },
    {
     "name": "stdout",
     "output_type": "stream",
     "text": [
      "CPU times: user 2.28 s, sys: 357 ms, total: 2.64 s\n",
      "Wall time: 3.76 s\n"
     ]
    },
    {
     "name": "stderr",
     "output_type": "stream",
     "text": [
      "/gws/pw/j05/cop26_hackathons/bristol/env/lib/python3.8/site-packages/dask/array/numpy_compat.py:39: RuntimeWarning: invalid value encountered in true_divide\n",
      "  x = np.divide(x1, x2, out)\n"
     ]
    },
    {
     "data": {
      "text/plain": [
       "array([-3.31905198,  1.49636495,  0.66442263,  4.59183693,  0.72466433,\n",
       "       -4.9913187 , -0.84622937, -3.95383215,  2.61125922, -0.62897491,\n",
       "        0.86285478, -1.72968435,  2.17968202,  1.84053802, -0.33634418,\n",
       "               nan,         nan,  0.11509499, -3.09932351, -1.20246613,\n",
       "        2.38124466, -0.99362886,  0.12098514,  1.9619664 ,  0.3764129 ,\n",
       "       -2.13909698,         nan])"
      ]
     },
     "execution_count": 118,
     "metadata": {},
     "output_type": "execute_result"
    }
   ],
   "source": [
    "%%time \n",
    "### Calculate ZWRI (zonal wind response index) and SPV (strength of stratospheric polar vortex) using difference betw \"ssp585\" and \"historical\" DJF zonal mean zonal wind\n",
    "#     index calculated as difference betw 2 boxes (30-39N and 54-63N)\n",
    "\n",
    "#Set region of box\n",
    "plev_min = 150\n",
    "plev_max = 600\n",
    "zwri_lat_box1_min = 30\n",
    "zwri_lat_box1_max = 39\n",
    "zwri_lat_box2_min = 54\n",
    "zwri_lat_box2_max = 63\n",
    "\n",
    "\n",
    "zwri = np.zeros(len(diff_all_models))\n",
    "zwri_n_all = {}\n",
    "zwri_dict = {}\n",
    "spv = np.zeros(len(diff_all_models))\n",
    "spv_dict = {}\n",
    "\n",
    "for i in range(len(diff_all_models)):\n",
    "    zwri_n = diff_all_models[i].sel(plev=slice(plev_max, plev_min)).sel(lat=slice(zwri_lat_box2_min, zwri_lat_box2_max)).mean('lat').mean('plev')\n",
    "    zwri_s = diff_all_models[i].sel(plev=slice(plev_max, plev_min)).sel(lat=slice(zwri_lat_box1_min, zwri_lat_box1_max)).mean('lat').mean('plev')\n",
    "    zwri_i = zwri_n - zwri_s\n",
    "    spv_i = diff_all_models[i].sel(plev=10, method='nearest').sel(lat=slice(54, 66)).mean('lat') #.mean('plev')\n",
    "    #print(zwri_i.ua.values, spv_i)\n",
    "    zwri[i] = zwri_i.ua.values\n",
    "    zwri_n_all[model_name_fig[i]] = zwri_n.ua.values\n",
    "    spv[i] = spv_i.ua.values\n",
    "    zwri_dict[model_name_fig[i]] = float(zwri[i])\n",
    "    spv_dict[model_name_fig[i]] = float(spv[i])\n",
    "        \n",
    "zwri\n",
    "spv"
   ]
  },
  {
   "cell_type": "code",
   "execution_count": 119,
   "metadata": {},
   "outputs": [
    {
     "data": {
      "text/plain": [
       "{'TaiESM1': 5.038353443145752,\n",
       " 'AWI-CM-1-1-MR': 4.906530857086182,\n",
       " 'BCC-CSM2-MR': 4.455034255981445,\n",
       " 'CAMS-CSM1-0': 3.474053144454956,\n",
       " 'CAS-ESM2-0': nan,\n",
       " 'FGOALS-g3': 5.332302570343018,\n",
       " 'IITM-ESM': 3.091137409210205,\n",
       " 'CanESM5': 8.671614646911621,\n",
       " 'CanESM5-CanOE': 8.9288330078125,\n",
       " 'CMCC-CM2-SR5': 8.244590759277344,\n",
       " 'CMCC-ESM2': 8.642439842224121,\n",
       " 'ACCESS-ESM1-5': 6.558382987976074,\n",
       " 'ACCESS-CM2': 5.928490161895752,\n",
       " 'MPI-ESM1-2-HR': 5.47551155090332,\n",
       " 'FIO-ESM-2-0': 4.954065799713135,\n",
       " 'MIROC-ES2L': 8.24848461151123,\n",
       " 'MIROC6': nan,\n",
       " 'HadGEM3-GC31-LL': nan,\n",
       " 'UKESM1-0-LL': nan,\n",
       " 'MPI-ESM1-2-LR': 5.623741149902344,\n",
       " 'MRI-ESM2-0': 5.151752471923828,\n",
       " 'GISS-E2-1-G': nan,\n",
       " 'CESM2': 2.6984026432037354,\n",
       " 'CESM2-WACCM': 3.084578037261963,\n",
       " 'NorESM2-LM': 5.082834243774414,\n",
       " 'NorESM2-MM': 5.1630778312683105,\n",
       " 'NESM3': 7.6235432624816895,\n",
       " 'MCM-UA-1-0': 4.512024402618408}"
      ]
     },
     "execution_count": 119,
     "metadata": {},
     "output_type": "execute_result"
    }
   ],
   "source": [
    "#diff_all_models[0]\n",
    "#spv = diff_all_models[0].sel(plev=10, method='nearest').sel(lat=slice(54, 66)).mean('lat') #.mean('plev')\n",
    "#spv #.ua.values\n",
    "#np.nanmin(np.asarray(list(zwri_n_all.values())))\n",
    "aa_ind_dict"
   ]
  },
  {
   "cell_type": "code",
   "execution_count": 120,
   "metadata": {},
   "outputs": [
    {
     "name": "stdout",
     "output_type": "stream",
     "text": [
      "28 27\n",
      "0.03524736209614892\n",
      "SpearmanrResult(correlation=-0.02077922077922078, pvalue=0.9287633909628465)\n"
     ]
    },
    {
     "data": {
      "image/png": "[encoded data removed]",
      "text/plain": [
       "<Figure size 1000x600 with 1 Axes>"
      ]
     },
     "metadata": {
      "needs_background": "light"
     },
     "output_type": "display_data"
    }
   ],
   "source": [
    "### Scatterplot Arctic Amplification index vs SPV\n",
    "\n",
    "print(len(aa_ind), len(spv))\n",
    "\n",
    "aa_ind_list = []\n",
    "spv_list = []\n",
    "\n",
    "#overlay historical mean zonal wind as color\n",
    "#cmap=plt.get_cmap('Spectral') #('rainbow')\n",
    "\n",
    "#aa_ind_arctic_all\n",
    "\n",
    "fig, axes = plt.subplots() \n",
    "for model in aa_ind_dict :\n",
    "    try :\n",
    "        spv_dict[model]\n",
    "        plt.scatter(aa_ind_dict[model], spv_dict[model], c='b') #, c=cmap(zwri_dict[model]/np.nanmean(zwri)))\n",
    "        if np.isnan(aa_ind_dict[model]) or np.isnan(spv_dict[model]):\n",
    "            pass\n",
    "        else :\n",
    "            aa_ind_list.append(aa_ind_dict[model])\n",
    "            spv_list.append(spv_dict[model])\n",
    "    except :\n",
    "        pass\n",
    "m1, b1 = np.polyfit(aa_ind_list, spv_list, 1)\n",
    "c1 = spearmanr(aa_ind_list, spv_list) #pearsonr\n",
    "cov = np.cov(aa_ind_list, spv_list)\n",
    "print(cov[0,1]**2)\n",
    "#plt.scatter(aa_ind, spv)\n",
    "print(c1)\n",
    "plt.plot(np.asarray(aa_ind_list), np.asarray(aa_ind_list)*m1+b1, '--k')\n",
    "plt.xlabel('Arctic Amplification Index')\n",
    "plt.ylabel('Strength of Stratospheric Polar Vortex')\n",
    "plt.title('CMIP6 ScenarioMIP AAI vs SPV')\n",
    "plt.text(1.75, -8,('Spearman Corr Coeff: '+str(round(c1[0],3))))\n",
    "figdir = '/home/users/phohud/pah_phd_scripts/cmip6_hack/project05/results/'\n",
    "fig.savefig((figdir+'cmip6_AAI_SPV_'+rcp_scen+'_'+str(start_year)+'-'+str(end_year)+'_hist_1981-2010_aai'+str(aa_lat_box_a_min)+'-'+str(aa_lat_box_a_max)+'_mli'+str(aa_lat_box_ml_min)+'-'+str(aa_lat_box_ml_max)+'N.png'), dpi=100, transparent=False, bbox_inches='tight', pad_inches=0.1)\n"
   ]
  },
  {
   "cell_type": "code",
   "execution_count": 121,
   "metadata": {},
   "outputs": [],
   "source": [
    "#'Spearman Corr Coeff: {1:02d}'.format(c1[0])\n",
    "#c1[0]"
   ]
  },
  {
   "cell_type": "code",
   "execution_count": 122,
   "metadata": {},
   "outputs": [
    {
     "name": "stdout",
     "output_type": "stream",
     "text": [
      "28 27\n",
      "SpearmanrResult(correlation=0.16996047430830044, pvalue=0.449541664364542)\n"
     ]
    },
    {
     "data": {
      "image/png": "[encoded data removed]",
      "text/plain": [
       "<Figure size 1000x800 with 2 Axes>"
      ]
     },
     "metadata": {
      "needs_background": "light"
     },
     "output_type": "display_data"
    }
   ],
   "source": [
    "### Scatterplot Arctic Amplification index vs ZWRI \n",
    "#     with zonal mean response in the higher latitude box (ZWI) denoted by the point color\n",
    "\n",
    "print(len(aa_ind), len(zwri))\n",
    "fig, ax = plt.subplots(figsize=(10,8)) \n",
    "#plt.scatter(aa_ind, zwri)\n",
    "\n",
    "aa_ind_list = []\n",
    "zwri_list = []\n",
    "\n",
    "cmap=plt.get_cmap('viridis') #'Spectral') #('rainbow')\n",
    "vmin = np.nanmin(np.asarray(list(zwri_n_all.values())))\n",
    "vmax = np.nanmax(np.asarray(list(zwri_n_all.values())))\n",
    "normalize=matplotlib.colors.Normalize(vmin=vmin, vmax=vmax)\n",
    "\n",
    "#aa_ind_arctic_all\n",
    "for model in aa_ind_dict :\n",
    "    try :\n",
    "        zwri_dict[model]\n",
    "        plt.scatter(aa_ind_dict[model], zwri_dict[model], color=cmap(zwri_n_all[model]), norm=normalize) #'b')\n",
    "        if np.isnan(aa_ind_dict[model]) or np.isnan(zwri_dict[model]):\n",
    "            pass\n",
    "        else :\n",
    "            aa_ind_list.append(aa_ind_dict[model])\n",
    "            zwri_list.append(zwri_dict[model])\n",
    "    except :\n",
    "        pass\n",
    "m1, b1 = np.polyfit(aa_ind_list, zwri_list, 1)\n",
    "c1 = spearmanr(aa_ind_list, zwri_list) #pearsonr\n",
    "#plt.scatter(aa_ind, spv)\n",
    "print(c1)\n",
    "plt.plot(np.asarray(aa_ind_list), np.asarray(aa_ind_list)*m1+b1, '--k')\n",
    "plt.xlabel('Arctic Amplification Index')\n",
    "plt.ylabel('ZWRI')\n",
    "plt.title('CMIP6 ScenarioMIP AAI vs ZWRI')\n",
    "plt.text(1.75, 1.5,('Spearman Corr Coeff: '+str(round(c1[0],3))))\n",
    "cax, _ = matplotlib.colorbar.make_axes(ax, orientation=\"horizontal\",pad=0.1)\n",
    "cbar = matplotlib.colorbar.ColorbarBase(cax, cmap=cmap, norm=normalize,orientation=\"horizontal\")\n",
    "cbar.set_label('ZWI '+str(zwri_lat_box2_min)+'-'+str(zwri_lat_box2_max)+'N',size=16)\n",
    "cbar.ax.tick_params(labelsize=16)\n",
    "\n",
    "figdir = '/home/users/phohud/pah_phd_scripts/cmip6_hack/project05/results/'\n",
    "fig.savefig((figdir+'cmip6_AAI_ZWRI_'+rcp_scen+'_'+str(start_year)+'-'+str(end_year)+'_hist_1981-2010_co_aai'+str(aa_lat_box_a_min)+'-'+str(aa_lat_box_a_max)+'_mli'+str(aa_lat_box_ml_min)+'-'+str(aa_lat_box_ml_max)+'N.png'), dpi=100, transparent=False, bbox_inches='tight', pad_inches=0.1)\n"
   ]
  },
  {
   "cell_type": "code",
   "execution_count": 123,
   "metadata": {},
   "outputs": [
    {
     "name": "stdout",
     "output_type": "stream",
     "text": [
      "28 27\n",
      "SpearmanrResult(correlation=0.03636363636363636, pvalue=0.8756496301383224)\n"
     ]
    },
    {
     "data": {
      "image/png": "[encoded data removed]",
      "text/plain": [
       "<Figure size 1000x600 with 1 Axes>"
      ]
     },
     "metadata": {
      "needs_background": "light"
     },
     "output_type": "display_data"
    }
   ],
   "source": [
    "### Scatterplot ZWRI vs zonal mean response in the higher latitude box (ZWI)\n",
    "\n",
    "print(len(aa_ind), len(zwri))\n",
    "fig, axes = plt.subplots() \n",
    "#plt.scatter(aa_ind, zwri)\n",
    "\n",
    "aa_ind_list = []\n",
    "zwri_n_list = []\n",
    "\n",
    "for model in aa_ind_dict :\n",
    "    try :\n",
    "        zwri_dict[model]\n",
    "        plt.scatter(aa_ind_dict[model], zwri_n_all[model], c='b')\n",
    "        if np.isnan(aa_ind_dict[model]) or np.isnan(spv_dict[model]):\n",
    "            pass\n",
    "        else :\n",
    "            aa_ind_list.append(aa_ind_dict[model])\n",
    "            zwri_n_list.append(zwri_n_all[model])\n",
    "    except :\n",
    "        pass\n",
    "m1, b1 = np.polyfit(aa_ind_list, zwri_n_list, 1)\n",
    "c1 = spearmanr(aa_ind_list, zwri_n_list) #pearsonr\n",
    "#plt.scatter(aa_ind, spv)\n",
    "print(c1)\n",
    "plt.plot(np.asarray(aa_ind_list), np.asarray(aa_ind_list)*m1+b1, '--k')\n",
    "plt.xlabel('Arctic Amplification Index')\n",
    "plt.ylabel('Mean Zonal Wind (m/s)')\n",
    "plt.title('CMIP6 ScenarioMIP AAI vs mean Zonal Wind Over '+str(zwri_lat_box2_min)+'-'+str(zwri_lat_box2_max)+'N')\n",
    "plt.text(1.75, 1.5,('Spearman Corr Coeff: '+str(round(c1[0],3))))\n",
    "figdir = '/home/users/phohud/pah_phd_scripts/cmip6_hack/project05/results/'\n",
    "fig.savefig((figdir+'cmip6_AAI_ZWI_'+rcp_scen+'_'+str(start_year)+'-'+str(end_year)+'_hist_1981-2010_aai'+str(aa_lat_box_a_min)+'-'+str(aa_lat_box_a_max)+'_mli'+str(aa_lat_box_ml_min)+'-'+str(aa_lat_box_ml_max)+'N.png'), dpi=100, transparent=False, bbox_inches='tight', pad_inches=0.1)\n"
   ]
  },
  {
   "cell_type": "code",
   "execution_count": 124,
   "metadata": {},
   "outputs": [],
   "source": [
    "#aa_ind_dict\n",
    "#zwri_dict"
   ]
  },
  {
   "cell_type": "code",
   "execution_count": 125,
   "metadata": {},
   "outputs": [
    {
     "name": "stdout",
     "output_type": "stream",
     "text": [
      "hi\n"
     ]
    }
   ],
   "source": [
    "### Save AAI, ZWRI, SPV indices (dictionaries) as .pkl files\n",
    "\n",
    "outdir = '/home/users/phohud/pah_phd_scripts/cmip6_hack/project05/data/'\n",
    "outfilea = 'aa_ind_cmip6_scenariomip_'+rcp_scen+'_'+str(start_year)+'-'+str(end_year)+'_hist_1981-2010_box_'+str(aa_lat_box_a_min)+'-'+str(aa_lat_box_a_max)+'mli_'+str(aa_lat_box_ml_min)+'-'+str(aa_lat_box_ml_max)+'N.pkl'\n",
    "with open(\"{}/{}\".format(outdir, outfilea), \"wb\") as fp:\n",
    "         pickle.dump(aa_ind_dict, fp)\n",
    "#spv\n",
    "outfileb = 'spv_ind_cmip6_scenariomip_'+rcp_scen+'_'+str(start_year)+'-'+str(end_year)+'_hist_1981-2010.pkl'\n",
    "with open(\"{}/{}\".format(outdir, outfileb), \"wb\") as fp:\n",
    "         pickle.dump(spv_dict, fp)\n",
    "#zwri\n",
    "outfilec = 'zwri_ind_cmip6_scenariomip_'+rcp_scen+'_'+str(start_year)+'-'+str(end_year)+'_hist_1981-2010.pkl'\n",
    "with open(\"{}/{}\".format(outdir, outfilec), \"wb\") as fp:\n",
    "         pickle.dump(zwri_dict, fp)\n",
    "print('hi')"
   ]
  },
  {
   "cell_type": "code",
   "execution_count": 126,
   "metadata": {},
   "outputs": [
    {
     "data": {
      "text/plain": [
       "{'AWI-CM-1-1-MR': -3.31905198097229,\n",
       " 'BCC-CSM2-MR': 1.496364951133728,\n",
       " 'CAMS-CSM1-0': 0.6644226312637329,\n",
       " 'CAS-ESM2-0': 4.591836929321289,\n",
       " 'FGOALS-g3': 0.7246643304824829,\n",
       " 'IITM-ESM': -4.991318702697754,\n",
       " 'CanESM5': -0.8462293744087219,\n",
       " 'CanESM5-CanOE': -3.9538321495056152,\n",
       " 'CMCC-CM2-SR5': 2.6112592220306396,\n",
       " 'CMCC-ESM2': -0.6289749145507812,\n",
       " 'ACCESS-ESM1-5': 0.8628547787666321,\n",
       " 'ACCESS-CM2': -1.7296843528747559,\n",
       " 'FIO-ESM-2-0': 2.1796820163726807,\n",
       " 'MIROC-ES2L': 1.8405380249023438,\n",
       " 'MIROC6': -0.3363441824913025,\n",
       " 'HadGEM3-GC31-LL': nan,\n",
       " 'UKESM1-0-LL': nan,\n",
       " 'MPI-ESM1-2-HR': 0.11509498953819275,\n",
       " 'MPI-ESM1-2-LR': -3.0993235111236572,\n",
       " 'MRI-ESM2-0': -1.2024661302566528,\n",
       " 'GISS-E2-1-G': 2.381244659423828,\n",
       " 'CESM2': -0.9936288595199585,\n",
       " 'CESM2-WACCM': 0.12098513543605804,\n",
       " 'NorESM2-LM': 1.9619663953781128,\n",
       " 'NorESM2-MM': 0.37641289830207825,\n",
       " 'NESM3': -2.139096975326538,\n",
       " 'MCM-UA-1-0': nan}"
      ]
     },
     "execution_count": 126,
     "metadata": {},
     "output_type": "execute_result"
    }
   ],
   "source": [
    "### Test loading the dictionary indiced files back in \n",
    "\n",
    "outdir = '/home/users/phohud/pah_phd_scripts/cmip6_hack/project05/data/'\n",
    "\n",
    "#outdir = '/gws/pw/j05/cop26_hackathons/bristol/project05/project05/data'\n",
    "outfile_aa = 'aa_ind_cmip6_scenariomip_'+rcp_scen+'_'+str(start_year)+'-'+str(end_year)+'_hist_1981-2010_box_'+str(aa_lat_box_a_min)+'-'+str(aa_lat_box_a_max)+'mli_'+str(aa_lat_box_ml_min)+'-'+str(aa_lat_box_ml_max)+'N.pkl'\n",
    "outfile_spv = 'spv_ind_cmip6_scenariomip_'+rcp_scen+'_'+str(start_year)+'-'+str(end_year)+'_hist_1981-2010.pkl'\n",
    "outfile_zwri = 'zwri_ind_cmip6_scenariomip_'+rcp_scen+'_'+str(start_year)+'-'+str(end_year)+'_hist_1981-2010.pkl'\n",
    "\n",
    "with open(\"{}/{}\".format(outdir, outfile_spv), \"rb\") as fp:\n",
    "         a = pickle.load(fp)\n",
    "a"
   ]
  },
  {
   "cell_type": "code",
   "execution_count": 127,
   "metadata": {},
   "outputs": [
    {
     "name": "stdout",
     "output_type": "stream",
     "text": [
      "2070 2099 ssp245\n"
     ]
    }
   ],
   "source": [
    "print(start_year, end_year, rcp_scen)"
   ]
  }
 ],
 "metadata": {
  "kernelspec": {
   "display_name": "cmip6",
   "language": "python",
   "name": "cmip6"
  },
  "language_info": {
   "codemirror_mode": {
    "name": "ipython",
    "version": 3
   },
   "file_extension": ".py",
   "mimetype": "text/x-python",
   "name": "python",
   "nbconvert_exporter": "python",
   "pygments_lexer": "ipython3",
   "version": "3.8.10"
  }
 },
 "nbformat": 4,
 "nbformat_minor": 4
}
